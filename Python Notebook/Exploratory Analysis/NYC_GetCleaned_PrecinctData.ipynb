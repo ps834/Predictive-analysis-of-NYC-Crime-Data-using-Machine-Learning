{
 "cells": [
  {
   "cell_type": "code",
   "execution_count": 1,
   "metadata": {},
   "outputs": [],
   "source": [
    "###------NYC Crimes by precinct data -----###"
   ]
  },
  {
   "cell_type": "code",
   "execution_count": 3,
   "metadata": {},
   "outputs": [],
   "source": [
    "# Data exploration\n",
    "import pandas as pd\n",
    "import numpy as np\n",
    "from NYC_GetCleaned_HistoricData import getCleanedDataFrame\n",
    "from data_utility import getCurrentDirectory, readCsvFile\n",
    "from NYC_GetCleaned_TotalPopulation import getMeanPopulation"
   ]
  },
  {
   "cell_type": "code",
   "execution_count": 4,
   "metadata": {},
   "outputs": [],
   "source": [
    "#Get cleaned historic dataframe\n",
    "crimes_historic = getCleanedDataFrame()"
   ]
  },
  {
   "cell_type": "code",
   "execution_count": 5,
   "metadata": {},
   "outputs": [],
   "source": [
    "#Get the total mean population of NYC based on borough\n",
    "\"\"\" Bronx - 1, Brooklyn - 2, Manhattan - 3, Queens - 4, Staten Island - 5 \"\"\"\n",
    "\n",
    "bronxPop = getMeanPopulation('Bronx', 1)\n",
    "brookylnPop = getMeanPopulation('Brooklyn', 2)\n",
    "manhattanPop = getMeanPopulation('Manhattan', 3)\n",
    "queensPop = getMeanPopulation('Queens', 4)\n",
    "statIslandPop = getMeanPopulation('Staten Island', 5)"
   ]
  },
  {
   "cell_type": "code",
   "execution_count": 6,
   "metadata": {},
   "outputs": [
    {
     "name": "stdout",
     "output_type": "stream",
     "text": [
      "1415948.0\n",
      "2600681.5\n",
      "1612077.0\n",
      "2290148.5\n",
      "477942.5\n"
     ]
    }
   ],
   "source": [
    "print(bronxPop)\n",
    "print(brookylnPop)\n",
    "print(manhattanPop)\n",
    "print(queensPop)\n",
    "print(statIslandPop)\n"
   ]
  },
  {
   "cell_type": "code",
   "execution_count": 7,
   "metadata": {},
   "outputs": [
    {
     "data": {
      "text/html": [
       "<div>\n",
       "<style scoped>\n",
       "    .dataframe tbody tr th:only-of-type {\n",
       "        vertical-align: middle;\n",
       "    }\n",
       "\n",
       "    .dataframe tbody tr th {\n",
       "        vertical-align: top;\n",
       "    }\n",
       "\n",
       "    .dataframe thead th {\n",
       "        text-align: right;\n",
       "    }\n",
       "</style>\n",
       "<table border=\"1\" class=\"dataframe\">\n",
       "  <thead>\n",
       "    <tr style=\"text-align: right;\">\n",
       "      <th></th>\n",
       "      <th>Shape_Area</th>\n",
       "      <th>Shape_Leng</th>\n",
       "      <th>Precinct</th>\n",
       "      <th>the_geom</th>\n",
       "    </tr>\n",
       "  </thead>\n",
       "  <tbody>\n",
       "    <tr>\n",
       "      <th>0</th>\n",
       "      <td>4.730176e+07</td>\n",
       "      <td>80586.154615</td>\n",
       "      <td>1</td>\n",
       "      <td>MULTIPOLYGON (((-74.0438776157395 40.690187676...</td>\n",
       "    </tr>\n",
       "    <tr>\n",
       "      <th>1</th>\n",
       "      <td>1.808880e+07</td>\n",
       "      <td>18676.124259</td>\n",
       "      <td>5</td>\n",
       "      <td>MULTIPOLYGON (((-73.98863862848766 40.72293372...</td>\n",
       "    </tr>\n",
       "    <tr>\n",
       "      <th>2</th>\n",
       "      <td>2.213214e+07</td>\n",
       "      <td>27175.185625</td>\n",
       "      <td>6</td>\n",
       "      <td>MULTIPOLYGON (((-73.99968392160721 40.73855224...</td>\n",
       "    </tr>\n",
       "    <tr>\n",
       "      <th>3</th>\n",
       "      <td>4.533179e+07</td>\n",
       "      <td>29978.094261</td>\n",
       "      <td>71</td>\n",
       "      <td>MULTIPOLYGON (((-73.92854313809303 40.66457328...</td>\n",
       "    </tr>\n",
       "    <tr>\n",
       "      <th>4</th>\n",
       "      <td>1.046213e+08</td>\n",
       "      <td>87968.194520</td>\n",
       "      <td>72</td>\n",
       "      <td>MULTIPOLYGON (((-73.99840899113158 40.67186872...</td>\n",
       "    </tr>\n",
       "  </tbody>\n",
       "</table>\n",
       "</div>"
      ],
      "text/plain": [
       "     Shape_Area    Shape_Leng  Precinct  \\\n",
       "0  4.730176e+07  80586.154615         1   \n",
       "1  1.808880e+07  18676.124259         5   \n",
       "2  2.213214e+07  27175.185625         6   \n",
       "3  4.533179e+07  29978.094261        71   \n",
       "4  1.046213e+08  87968.194520        72   \n",
       "\n",
       "                                            the_geom  \n",
       "0  MULTIPOLYGON (((-74.0438776157395 40.690187676...  \n",
       "1  MULTIPOLYGON (((-73.98863862848766 40.72293372...  \n",
       "2  MULTIPOLYGON (((-73.99968392160721 40.73855224...  \n",
       "3  MULTIPOLYGON (((-73.92854313809303 40.66457328...  \n",
       "4  MULTIPOLYGON (((-73.99840899113158 40.67186872...  "
      ]
     },
     "execution_count": 7,
     "metadata": {},
     "output_type": "execute_result"
    }
   ],
   "source": [
    "## Read CSV\n",
    "precinct_data = readCsvFile('../Data/NYC_Precinct_Data.csv')\n",
    "precinct_data.head()"
   ]
  },
  {
   "cell_type": "code",
   "execution_count": 8,
   "metadata": {},
   "outputs": [
    {
     "name": "stdout",
     "output_type": "stream",
     "text": [
      "<class 'pandas.core.frame.DataFrame'>\n",
      "Int64Index: 5835784 entries, 1 to 6039728\n",
      "Data columns (total 16 columns):\n",
      "CMPLNT_FR_DT         object\n",
      "CMPLNT_FR_TM         object\n",
      "CMPLNT_TO_DT         object\n",
      "CMPLNT_TO_TM         object\n",
      "RPT_DT               object\n",
      "OFNS_DESC            object\n",
      "PD_DESC              object\n",
      "CRM_ATPT_CPTD_CD     object\n",
      "LAW_CAT_CD           object\n",
      "BORO_NM              object\n",
      "ADDR_PCT_CD          float64\n",
      "LOC_OF_OCCUR_DESC    object\n",
      "PREM_TYP_DESC        object\n",
      "Latitude             float64\n",
      "Longitude            float64\n",
      "Lat_Lon              object\n",
      "dtypes: float64(3), object(13)\n",
      "memory usage: 756.9+ MB\n"
     ]
    }
   ],
   "source": [
    "crimes_historic.info()"
   ]
  },
  {
   "cell_type": "code",
   "execution_count": 9,
   "metadata": {},
   "outputs": [
    {
     "name": "stdout",
     "output_type": "stream",
     "text": [
      "<class 'pandas.core.frame.DataFrame'>\n",
      "RangeIndex: 77 entries, 0 to 76\n",
      "Data columns (total 4 columns):\n",
      "Shape_Area    77 non-null float64\n",
      "Shape_Leng    77 non-null float64\n",
      "Precinct      77 non-null int64\n",
      "the_geom      77 non-null object\n",
      "dtypes: float64(2), int64(1), object(1)\n",
      "memory usage: 2.5+ KB\n"
     ]
    }
   ],
   "source": [
    "precinct_data.info()"
   ]
  },
  {
   "cell_type": "code",
   "execution_count": 10,
   "metadata": {},
   "outputs": [
    {
     "data": {
      "text/plain": [
       "(5835784, 16)"
      ]
     },
     "execution_count": 10,
     "metadata": {},
     "output_type": "execute_result"
    }
   ],
   "source": [
    "crimes_historic.shape"
   ]
  },
  {
   "cell_type": "code",
   "execution_count": 11,
   "metadata": {},
   "outputs": [
    {
     "data": {
      "text/plain": [
       "(77, 4)"
      ]
     },
     "execution_count": 11,
     "metadata": {},
     "output_type": "execute_result"
    }
   ],
   "source": [
    "precinct_data.shape"
   ]
  },
  {
   "cell_type": "code",
   "execution_count": 12,
   "metadata": {},
   "outputs": [
    {
     "data": {
      "text/plain": [
       "(5835784, 20)"
      ]
     },
     "execution_count": 12,
     "metadata": {},
     "output_type": "execute_result"
    }
   ],
   "source": [
    "inner_data=pd.merge(crimes_historic, precinct_data, left_on=['ADDR_PCT_CD'], right_on=['Precinct'], how='inner')\n",
    "inner_data.shape"
   ]
  },
  {
   "cell_type": "code",
   "execution_count": 13,
   "metadata": {},
   "outputs": [
    {
     "data": {
      "text/html": [
       "<div>\n",
       "<style scoped>\n",
       "    .dataframe tbody tr th:only-of-type {\n",
       "        vertical-align: middle;\n",
       "    }\n",
       "\n",
       "    .dataframe tbody tr th {\n",
       "        vertical-align: top;\n",
       "    }\n",
       "\n",
       "    .dataframe thead th {\n",
       "        text-align: right;\n",
       "    }\n",
       "</style>\n",
       "<table border=\"1\" class=\"dataframe\">\n",
       "  <thead>\n",
       "    <tr style=\"text-align: right;\">\n",
       "      <th></th>\n",
       "      <th>CMPLNT_FR_DT</th>\n",
       "      <th>CMPLNT_FR_TM</th>\n",
       "      <th>CMPLNT_TO_DT</th>\n",
       "      <th>CMPLNT_TO_TM</th>\n",
       "      <th>RPT_DT</th>\n",
       "      <th>OFNS_DESC</th>\n",
       "      <th>PD_DESC</th>\n",
       "      <th>CRM_ATPT_CPTD_CD</th>\n",
       "      <th>LAW_CAT_CD</th>\n",
       "      <th>BORO_NM</th>\n",
       "      <th>ADDR_PCT_CD</th>\n",
       "      <th>LOC_OF_OCCUR_DESC</th>\n",
       "      <th>PREM_TYP_DESC</th>\n",
       "      <th>Latitude</th>\n",
       "      <th>Longitude</th>\n",
       "      <th>Lat_Lon</th>\n",
       "      <th>Shape_Area</th>\n",
       "      <th>Shape_Leng</th>\n",
       "      <th>Precinct</th>\n",
       "      <th>the_geom</th>\n",
       "    </tr>\n",
       "  </thead>\n",
       "  <tbody>\n",
       "    <tr>\n",
       "      <th>0</th>\n",
       "      <td>3/30/2014</td>\n",
       "      <td>20:40:00</td>\n",
       "      <td>3/30/2014</td>\n",
       "      <td>20:50:00</td>\n",
       "      <td>3/30/2014</td>\n",
       "      <td>DANGEROUS DRUGS</td>\n",
       "      <td>CONTROLLED SUBSTANCE,INTENT TO</td>\n",
       "      <td>ATTEMPTED</td>\n",
       "      <td>FELONY</td>\n",
       "      <td>BRONX</td>\n",
       "      <td>44.0</td>\n",
       "      <td>INSIDE</td>\n",
       "      <td>RESIDENCE - APT. HOUSE</td>\n",
       "      <td>40.836162</td>\n",
       "      <td>-73.915250</td>\n",
       "      <td>(40.836161968, -73.915249813)</td>\n",
       "      <td>5.553055e+07</td>\n",
       "      <td>31394.624816</td>\n",
       "      <td>44</td>\n",
       "      <td>MULTIPOLYGON (((-73.90270221290083 40.84458296...</td>\n",
       "    </tr>\n",
       "    <tr>\n",
       "      <th>1</th>\n",
       "      <td>4/1/2014</td>\n",
       "      <td>15:00:00</td>\n",
       "      <td>4/1/2014</td>\n",
       "      <td>15:05:00</td>\n",
       "      <td>4/1/2014</td>\n",
       "      <td>FELONY ASSAULT</td>\n",
       "      <td>ASSAULT 2,1,UNCLASSIFIED</td>\n",
       "      <td>ATTEMPTED</td>\n",
       "      <td>FELONY</td>\n",
       "      <td>BRONX</td>\n",
       "      <td>44.0</td>\n",
       "      <td>INSIDE</td>\n",
       "      <td>STREET</td>\n",
       "      <td>40.825000</td>\n",
       "      <td>-73.916615</td>\n",
       "      <td>(40.825000207, -73.916615377)</td>\n",
       "      <td>5.553055e+07</td>\n",
       "      <td>31394.624816</td>\n",
       "      <td>44</td>\n",
       "      <td>MULTIPOLYGON (((-73.90270221290083 40.84458296...</td>\n",
       "    </tr>\n",
       "    <tr>\n",
       "      <th>2</th>\n",
       "      <td>4/6/2014</td>\n",
       "      <td>14:45:00</td>\n",
       "      <td>4/6/2014</td>\n",
       "      <td>14:45:00</td>\n",
       "      <td>4/6/2014</td>\n",
       "      <td>FELONY ASSAULT</td>\n",
       "      <td>ASSAULT 2,1,UNCLASSIFIED</td>\n",
       "      <td>ATTEMPTED</td>\n",
       "      <td>FELONY</td>\n",
       "      <td>BRONX</td>\n",
       "      <td>44.0</td>\n",
       "      <td>INSIDE</td>\n",
       "      <td>STREET</td>\n",
       "      <td>40.830013</td>\n",
       "      <td>-73.918112</td>\n",
       "      <td>(40.830013132, -73.918112312)</td>\n",
       "      <td>5.553055e+07</td>\n",
       "      <td>31394.624816</td>\n",
       "      <td>44</td>\n",
       "      <td>MULTIPOLYGON (((-73.90270221290083 40.84458296...</td>\n",
       "    </tr>\n",
       "    <tr>\n",
       "      <th>3</th>\n",
       "      <td>5/6/2014</td>\n",
       "      <td>14:00:00</td>\n",
       "      <td>5/6/2014</td>\n",
       "      <td>14:05:00</td>\n",
       "      <td>5/6/2014</td>\n",
       "      <td>GRAND LARCENY OF MOTOR VEHICLE</td>\n",
       "      <td>LARCENY,GRAND OF AUTO</td>\n",
       "      <td>ATTEMPTED</td>\n",
       "      <td>FELONY</td>\n",
       "      <td>BRONX</td>\n",
       "      <td>44.0</td>\n",
       "      <td>INSIDE</td>\n",
       "      <td>STREET</td>\n",
       "      <td>40.828608</td>\n",
       "      <td>-73.921742</td>\n",
       "      <td>(40.828607613, -73.92174192)</td>\n",
       "      <td>5.553055e+07</td>\n",
       "      <td>31394.624816</td>\n",
       "      <td>44</td>\n",
       "      <td>MULTIPOLYGON (((-73.90270221290083 40.84458296...</td>\n",
       "    </tr>\n",
       "    <tr>\n",
       "      <th>4</th>\n",
       "      <td>3/6/2014</td>\n",
       "      <td>23:42:00</td>\n",
       "      <td>3/6/2014</td>\n",
       "      <td>23:42:00</td>\n",
       "      <td>3/7/2014</td>\n",
       "      <td>POSSESSION OF STOLEN PROPERTY</td>\n",
       "      <td>STOLEN PROPERTY 2,1,POSSESSION</td>\n",
       "      <td>ATTEMPTED</td>\n",
       "      <td>FELONY</td>\n",
       "      <td>BRONX</td>\n",
       "      <td>44.0</td>\n",
       "      <td>INSIDE</td>\n",
       "      <td>STREET</td>\n",
       "      <td>40.838752</td>\n",
       "      <td>-73.913758</td>\n",
       "      <td>(40.83875187, -73.913757556)</td>\n",
       "      <td>5.553055e+07</td>\n",
       "      <td>31394.624816</td>\n",
       "      <td>44</td>\n",
       "      <td>MULTIPOLYGON (((-73.90270221290083 40.84458296...</td>\n",
       "    </tr>\n",
       "  </tbody>\n",
       "</table>\n",
       "</div>"
      ],
      "text/plain": [
       "  CMPLNT_FR_DT CMPLNT_FR_TM CMPLNT_TO_DT CMPLNT_TO_TM     RPT_DT  \\\n",
       "0    3/30/2014     20:40:00    3/30/2014     20:50:00  3/30/2014   \n",
       "1     4/1/2014     15:00:00     4/1/2014     15:05:00   4/1/2014   \n",
       "2     4/6/2014     14:45:00     4/6/2014     14:45:00   4/6/2014   \n",
       "3     5/6/2014     14:00:00     5/6/2014     14:05:00   5/6/2014   \n",
       "4     3/6/2014     23:42:00     3/6/2014     23:42:00   3/7/2014   \n",
       "\n",
       "                        OFNS_DESC                         PD_DESC  \\\n",
       "0                 DANGEROUS DRUGS  CONTROLLED SUBSTANCE,INTENT TO   \n",
       "1                  FELONY ASSAULT        ASSAULT 2,1,UNCLASSIFIED   \n",
       "2                  FELONY ASSAULT        ASSAULT 2,1,UNCLASSIFIED   \n",
       "3  GRAND LARCENY OF MOTOR VEHICLE           LARCENY,GRAND OF AUTO   \n",
       "4   POSSESSION OF STOLEN PROPERTY  STOLEN PROPERTY 2,1,POSSESSION   \n",
       "\n",
       "  CRM_ATPT_CPTD_CD LAW_CAT_CD BORO_NM  ADDR_PCT_CD LOC_OF_OCCUR_DESC  \\\n",
       "0        ATTEMPTED     FELONY   BRONX         44.0            INSIDE   \n",
       "1        ATTEMPTED     FELONY   BRONX         44.0            INSIDE   \n",
       "2        ATTEMPTED     FELONY   BRONX         44.0            INSIDE   \n",
       "3        ATTEMPTED     FELONY   BRONX         44.0            INSIDE   \n",
       "4        ATTEMPTED     FELONY   BRONX         44.0            INSIDE   \n",
       "\n",
       "            PREM_TYP_DESC   Latitude  Longitude  \\\n",
       "0  RESIDENCE - APT. HOUSE  40.836162 -73.915250   \n",
       "1                  STREET  40.825000 -73.916615   \n",
       "2                  STREET  40.830013 -73.918112   \n",
       "3                  STREET  40.828608 -73.921742   \n",
       "4                  STREET  40.838752 -73.913758   \n",
       "\n",
       "                         Lat_Lon    Shape_Area    Shape_Leng  Precinct  \\\n",
       "0  (40.836161968, -73.915249813)  5.553055e+07  31394.624816        44   \n",
       "1  (40.825000207, -73.916615377)  5.553055e+07  31394.624816        44   \n",
       "2  (40.830013132, -73.918112312)  5.553055e+07  31394.624816        44   \n",
       "3   (40.828607613, -73.92174192)  5.553055e+07  31394.624816        44   \n",
       "4   (40.83875187, -73.913757556)  5.553055e+07  31394.624816        44   \n",
       "\n",
       "                                            the_geom  \n",
       "0  MULTIPOLYGON (((-73.90270221290083 40.84458296...  \n",
       "1  MULTIPOLYGON (((-73.90270221290083 40.84458296...  \n",
       "2  MULTIPOLYGON (((-73.90270221290083 40.84458296...  \n",
       "3  MULTIPOLYGON (((-73.90270221290083 40.84458296...  \n",
       "4  MULTIPOLYGON (((-73.90270221290083 40.84458296...  "
      ]
     },
     "execution_count": 13,
     "metadata": {},
     "output_type": "execute_result"
    }
   ],
   "source": [
    "inner_data.head()"
   ]
  },
  {
   "cell_type": "code",
   "execution_count": null,
   "metadata": {},
   "outputs": [],
   "source": []
  }
 ],
 "metadata": {
  "kernelspec": {
   "display_name": "Python 3",
   "language": "python",
   "name": "python3"
  },
  "language_info": {
   "codemirror_mode": {
    "name": "ipython",
    "version": 3
   },
   "file_extension": ".py",
   "mimetype": "text/x-python",
   "name": "python",
   "nbconvert_exporter": "python",
   "pygments_lexer": "ipython3",
   "version": "3.7.0"
  }
 },
 "nbformat": 4,
 "nbformat_minor": 2
}
