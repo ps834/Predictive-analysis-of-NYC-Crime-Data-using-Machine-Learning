{
 "cells": [
  {
   "cell_type": "code",
   "execution_count": 1,
   "metadata": {},
   "outputs": [],
   "source": [
    "# Data exploration\n",
    "import pandas as pd\n",
    "\n",
    "# Numerical\n",
    "import numpy as np\n",
    "import data_utility\n",
    "\n",
    "#Data Visualization\n",
    "import seaborn as sns\n",
    "import matplotlib.pyplot as plt\n",
    "%matplotlib inline\n"
   ]
  },
  {
   "cell_type": "code",
   "execution_count": 2,
   "metadata": {},
   "outputs": [
    {
     "name": "stdout",
     "output_type": "stream",
     "text": [
      "0.0\n",
      "0.0\n",
      "0.0\n",
      "0.0\n",
      "0.0\n",
      "<class 'pandas.core.frame.DataFrame'>\n",
      "Int64Index: 5835784 entries, 1 to 6039728\n",
      "Data columns (total 16 columns):\n",
      "CMPLNT_FR_DT         object\n",
      "CMPLNT_FR_TM         object\n",
      "CMPLNT_TO_DT         object\n",
      "CMPLNT_TO_TM         object\n",
      "RPT_DT               object\n",
      "OFNS_DESC            object\n",
      "PD_DESC              object\n",
      "CRM_ATPT_CPTD_CD     object\n",
      "LAW_CAT_CD           object\n",
      "BORO_NM              object\n",
      "ADDR_PCT_CD          float64\n",
      "LOC_OF_OCCUR_DESC    object\n",
      "PREM_TYP_DESC        object\n",
      "Latitude             float64\n",
      "Longitude            float64\n",
      "Lat_Lon              object\n",
      "dtypes: float64(3), object(13)\n",
      "memory usage: 756.9+ MB\n",
      "<class 'pandas.core.frame.DataFrame'>\n",
      "RangeIndex: 77 entries, 0 to 76\n",
      "Data columns (total 4 columns):\n",
      "Shape_Area    77 non-null float64\n",
      "Shape_Leng    77 non-null float64\n",
      "Precinct      77 non-null int64\n",
      "the_geom      77 non-null object\n",
      "dtypes: float64(2), int64(1), object(1)\n",
      "memory usage: 2.5+ KB\n"
     ]
    }
   ],
   "source": [
    "#import the functions from their corresponding files\n",
    "from NYC_GetCleaned_PrecinctData import getPrecinctData\n",
    "from data_utility import filterData\n",
    "from NYC_GetCleaned_TotalPopulation import getMeanPopulation\n"
   ]
  },
  {
   "cell_type": "code",
   "execution_count": 3,
   "metadata": {},
   "outputs": [
    {
     "data": {
      "text/html": [
       "<div>\n",
       "<style scoped>\n",
       "    .dataframe tbody tr th:only-of-type {\n",
       "        vertical-align: middle;\n",
       "    }\n",
       "\n",
       "    .dataframe tbody tr th {\n",
       "        vertical-align: top;\n",
       "    }\n",
       "\n",
       "    .dataframe thead th {\n",
       "        text-align: right;\n",
       "    }\n",
       "</style>\n",
       "<table border=\"1\" class=\"dataframe\">\n",
       "  <thead>\n",
       "    <tr style=\"text-align: right;\">\n",
       "      <th></th>\n",
       "      <th>CMPLNT_FR_DT</th>\n",
       "      <th>CMPLNT_FR_TM</th>\n",
       "      <th>CMPLNT_TO_DT</th>\n",
       "      <th>CMPLNT_TO_TM</th>\n",
       "      <th>RPT_DT</th>\n",
       "      <th>OFNS_DESC</th>\n",
       "      <th>PD_DESC</th>\n",
       "      <th>CRM_ATPT_CPTD_CD</th>\n",
       "      <th>LAW_CAT_CD</th>\n",
       "      <th>BORO_NM</th>\n",
       "      <th>ADDR_PCT_CD</th>\n",
       "      <th>LOC_OF_OCCUR_DESC</th>\n",
       "      <th>PREM_TYP_DESC</th>\n",
       "      <th>Latitude</th>\n",
       "      <th>Longitude</th>\n",
       "      <th>Lat_Lon</th>\n",
       "      <th>Shape_Area</th>\n",
       "      <th>Shape_Leng</th>\n",
       "      <th>Precinct</th>\n",
       "      <th>the_geom</th>\n",
       "    </tr>\n",
       "  </thead>\n",
       "  <tbody>\n",
       "    <tr>\n",
       "      <th>0</th>\n",
       "      <td>3/30/2014</td>\n",
       "      <td>20:40:00</td>\n",
       "      <td>3/30/2014</td>\n",
       "      <td>20:50:00</td>\n",
       "      <td>3/30/2014</td>\n",
       "      <td>DANGEROUS DRUGS</td>\n",
       "      <td>CONTROLLED SUBSTANCE,INTENT TO</td>\n",
       "      <td>ATTEMPTED</td>\n",
       "      <td>FELONY</td>\n",
       "      <td>BRONX</td>\n",
       "      <td>44.0</td>\n",
       "      <td>INSIDE</td>\n",
       "      <td>RESIDENCE - APT. HOUSE</td>\n",
       "      <td>40.836162</td>\n",
       "      <td>-73.915250</td>\n",
       "      <td>(40.836161968, -73.915249813)</td>\n",
       "      <td>5.553055e+07</td>\n",
       "      <td>31394.624816</td>\n",
       "      <td>44</td>\n",
       "      <td>MULTIPOLYGON (((-73.90270221290083 40.84458296...</td>\n",
       "    </tr>\n",
       "    <tr>\n",
       "      <th>1</th>\n",
       "      <td>4/1/2014</td>\n",
       "      <td>15:00:00</td>\n",
       "      <td>4/1/2014</td>\n",
       "      <td>15:05:00</td>\n",
       "      <td>4/1/2014</td>\n",
       "      <td>FELONY ASSAULT</td>\n",
       "      <td>ASSAULT 2,1,UNCLASSIFIED</td>\n",
       "      <td>ATTEMPTED</td>\n",
       "      <td>FELONY</td>\n",
       "      <td>BRONX</td>\n",
       "      <td>44.0</td>\n",
       "      <td>INSIDE</td>\n",
       "      <td>STREET</td>\n",
       "      <td>40.825000</td>\n",
       "      <td>-73.916615</td>\n",
       "      <td>(40.825000207, -73.916615377)</td>\n",
       "      <td>5.553055e+07</td>\n",
       "      <td>31394.624816</td>\n",
       "      <td>44</td>\n",
       "      <td>MULTIPOLYGON (((-73.90270221290083 40.84458296...</td>\n",
       "    </tr>\n",
       "    <tr>\n",
       "      <th>2</th>\n",
       "      <td>4/6/2014</td>\n",
       "      <td>14:45:00</td>\n",
       "      <td>4/6/2014</td>\n",
       "      <td>14:45:00</td>\n",
       "      <td>4/6/2014</td>\n",
       "      <td>FELONY ASSAULT</td>\n",
       "      <td>ASSAULT 2,1,UNCLASSIFIED</td>\n",
       "      <td>ATTEMPTED</td>\n",
       "      <td>FELONY</td>\n",
       "      <td>BRONX</td>\n",
       "      <td>44.0</td>\n",
       "      <td>INSIDE</td>\n",
       "      <td>STREET</td>\n",
       "      <td>40.830013</td>\n",
       "      <td>-73.918112</td>\n",
       "      <td>(40.830013132, -73.918112312)</td>\n",
       "      <td>5.553055e+07</td>\n",
       "      <td>31394.624816</td>\n",
       "      <td>44</td>\n",
       "      <td>MULTIPOLYGON (((-73.90270221290083 40.84458296...</td>\n",
       "    </tr>\n",
       "    <tr>\n",
       "      <th>3</th>\n",
       "      <td>5/6/2014</td>\n",
       "      <td>14:00:00</td>\n",
       "      <td>5/6/2014</td>\n",
       "      <td>14:05:00</td>\n",
       "      <td>5/6/2014</td>\n",
       "      <td>GRAND LARCENY OF MOTOR VEHICLE</td>\n",
       "      <td>LARCENY,GRAND OF AUTO</td>\n",
       "      <td>ATTEMPTED</td>\n",
       "      <td>FELONY</td>\n",
       "      <td>BRONX</td>\n",
       "      <td>44.0</td>\n",
       "      <td>INSIDE</td>\n",
       "      <td>STREET</td>\n",
       "      <td>40.828608</td>\n",
       "      <td>-73.921742</td>\n",
       "      <td>(40.828607613, -73.92174192)</td>\n",
       "      <td>5.553055e+07</td>\n",
       "      <td>31394.624816</td>\n",
       "      <td>44</td>\n",
       "      <td>MULTIPOLYGON (((-73.90270221290083 40.84458296...</td>\n",
       "    </tr>\n",
       "    <tr>\n",
       "      <th>4</th>\n",
       "      <td>3/6/2014</td>\n",
       "      <td>23:42:00</td>\n",
       "      <td>3/6/2014</td>\n",
       "      <td>23:42:00</td>\n",
       "      <td>3/7/2014</td>\n",
       "      <td>POSSESSION OF STOLEN PROPERTY</td>\n",
       "      <td>STOLEN PROPERTY 2,1,POSSESSION</td>\n",
       "      <td>ATTEMPTED</td>\n",
       "      <td>FELONY</td>\n",
       "      <td>BRONX</td>\n",
       "      <td>44.0</td>\n",
       "      <td>INSIDE</td>\n",
       "      <td>STREET</td>\n",
       "      <td>40.838752</td>\n",
       "      <td>-73.913758</td>\n",
       "      <td>(40.83875187, -73.913757556)</td>\n",
       "      <td>5.553055e+07</td>\n",
       "      <td>31394.624816</td>\n",
       "      <td>44</td>\n",
       "      <td>MULTIPOLYGON (((-73.90270221290083 40.84458296...</td>\n",
       "    </tr>\n",
       "  </tbody>\n",
       "</table>\n",
       "</div>"
      ],
      "text/plain": [
       "  CMPLNT_FR_DT CMPLNT_FR_TM CMPLNT_TO_DT CMPLNT_TO_TM     RPT_DT  \\\n",
       "0    3/30/2014     20:40:00    3/30/2014     20:50:00  3/30/2014   \n",
       "1     4/1/2014     15:00:00     4/1/2014     15:05:00   4/1/2014   \n",
       "2     4/6/2014     14:45:00     4/6/2014     14:45:00   4/6/2014   \n",
       "3     5/6/2014     14:00:00     5/6/2014     14:05:00   5/6/2014   \n",
       "4     3/6/2014     23:42:00     3/6/2014     23:42:00   3/7/2014   \n",
       "\n",
       "                        OFNS_DESC                         PD_DESC  \\\n",
       "0                 DANGEROUS DRUGS  CONTROLLED SUBSTANCE,INTENT TO   \n",
       "1                  FELONY ASSAULT        ASSAULT 2,1,UNCLASSIFIED   \n",
       "2                  FELONY ASSAULT        ASSAULT 2,1,UNCLASSIFIED   \n",
       "3  GRAND LARCENY OF MOTOR VEHICLE           LARCENY,GRAND OF AUTO   \n",
       "4   POSSESSION OF STOLEN PROPERTY  STOLEN PROPERTY 2,1,POSSESSION   \n",
       "\n",
       "  CRM_ATPT_CPTD_CD LAW_CAT_CD BORO_NM  ADDR_PCT_CD LOC_OF_OCCUR_DESC  \\\n",
       "0        ATTEMPTED     FELONY   BRONX         44.0            INSIDE   \n",
       "1        ATTEMPTED     FELONY   BRONX         44.0            INSIDE   \n",
       "2        ATTEMPTED     FELONY   BRONX         44.0            INSIDE   \n",
       "3        ATTEMPTED     FELONY   BRONX         44.0            INSIDE   \n",
       "4        ATTEMPTED     FELONY   BRONX         44.0            INSIDE   \n",
       "\n",
       "            PREM_TYP_DESC   Latitude  Longitude  \\\n",
       "0  RESIDENCE - APT. HOUSE  40.836162 -73.915250   \n",
       "1                  STREET  40.825000 -73.916615   \n",
       "2                  STREET  40.830013 -73.918112   \n",
       "3                  STREET  40.828608 -73.921742   \n",
       "4                  STREET  40.838752 -73.913758   \n",
       "\n",
       "                         Lat_Lon    Shape_Area    Shape_Leng  Precinct  \\\n",
       "0  (40.836161968, -73.915249813)  5.553055e+07  31394.624816        44   \n",
       "1  (40.825000207, -73.916615377)  5.553055e+07  31394.624816        44   \n",
       "2  (40.830013132, -73.918112312)  5.553055e+07  31394.624816        44   \n",
       "3   (40.828607613, -73.92174192)  5.553055e+07  31394.624816        44   \n",
       "4   (40.83875187, -73.913757556)  5.553055e+07  31394.624816        44   \n",
       "\n",
       "                                            the_geom  \n",
       "0  MULTIPOLYGON (((-73.90270221290083 40.84458296...  \n",
       "1  MULTIPOLYGON (((-73.90270221290083 40.84458296...  \n",
       "2  MULTIPOLYGON (((-73.90270221290083 40.84458296...  \n",
       "3  MULTIPOLYGON (((-73.90270221290083 40.84458296...  \n",
       "4  MULTIPOLYGON (((-73.90270221290083 40.84458296...  "
      ]
     },
     "execution_count": 3,
     "metadata": {},
     "output_type": "execute_result"
    }
   ],
   "source": [
    "#Get cleaned data from NYC_GetCleaned_HistoricData\n",
    "crimes_original = getPrecinctData()\n",
    "crimes_original.head()"
   ]
  },
  {
   "cell_type": "code",
   "execution_count": 4,
   "metadata": {},
   "outputs": [
    {
     "data": {
      "text/plain": [
       "['BRONX', 'MANHATTAN', 'BROOKLYN', 'QUEENS', 'STATEN ISLAND']"
      ]
     },
     "execution_count": 4,
     "metadata": {},
     "output_type": "execute_result"
    }
   ],
   "source": [
    "#Get a list of NYC Boroughs\n",
    "borolist = (crimes_original['BORO_NM'].unique()).tolist()\n"
   ]
  },
  {
   "cell_type": "code",
   "execution_count": 5,
   "metadata": {},
   "outputs": [],
   "source": [
    "#Get the list of number of precinct in each borough\n",
    "totalPrecinct = len(crimes_original['Precinct'].unique().tolist())"
   ]
  },
  {
   "cell_type": "code",
   "execution_count": 6,
   "metadata": {},
   "outputs": [
    {
     "data": {
      "text/plain": [
       "8426665066"
      ]
     },
     "execution_count": 6,
     "metadata": {},
     "output_type": "execute_result"
    }
   ],
   "source": [
    "#Get the list of area of each borough\n",
    "totalAreaNYC = int(sum(crimes_original['Shape_Area'].unique().tolist()))\n"
   ]
  },
  {
   "cell_type": "code",
   "execution_count": 26,
   "metadata": {},
   "outputs": [],
   "source": [
    "#Define the arrays  \n",
    "areaList = []\n",
    "countlist = []\n",
    "pop = []\n",
    "popPercent=[]"
   ]
  },
  {
   "cell_type": "code",
   "execution_count": 8,
   "metadata": {},
   "outputs": [],
   "source": [
    "def getPrecinctCount(borolist):\n",
    "        countlist.clear()\n",
    "        for boro in borolist:\n",
    "            boro_data = filterData(crimes_original,'BORO_NM', boro)\n",
    "            precinctCount = len(boro_data['Precinct'].unique().tolist())*100/totalPrecinct\n",
    "            countlist.append(round(precinctCount,2))\n",
    "        return countlist"
   ]
  },
  {
   "cell_type": "code",
   "execution_count": 9,
   "metadata": {},
   "outputs": [],
   "source": [
    "def getArea(borolist):\n",
    "        areaList.clear()\n",
    "        for boro in borolist:\n",
    "            area_data = filterData(crimes_original,'BORO_NM', boro)\n",
    "            area = sum(area_data['Shape_Area'].unique().tolist())*100/totalAreaNYC\n",
    "            areaList.append(round(area,2))\n",
    "        return areaList"
   ]
  },
  {
   "cell_type": "code",
   "execution_count": 10,
   "metadata": {},
   "outputs": [],
   "source": [
    "def getPopulation(borolist):\n",
    "    pop.clear()\n",
    "    popPercent.clear()\n",
    "    i=1\n",
    "    for boro in borolist:\n",
    "        popValue = getMeanPopulation(boro,i)\n",
    "        pop.append(popValue)\n",
    "        i = i+1\n",
    "    popsum = int(sum(pop))\n",
    "    for value in pop:\n",
    "        popPercentValue = value*100/popsum\n",
    "        popPercent.append(round(popPercentValue,2))\n",
    "    return popPercent    \n",
    "    \n"
   ]
  },
  {
   "cell_type": "code",
   "execution_count": 13,
   "metadata": {},
   "outputs": [],
   "source": [
    "precinct_boro = pd.DataFrame({'Boroughs':borolist,'Precinct (%)':getPrecinctCount(borolist),'Area (%)':getArea(borolist),'Population (%)':getPopulation(borolist)})"
   ]
  },
  {
   "cell_type": "code",
   "execution_count": 15,
   "metadata": {},
   "outputs": [],
   "source": [
    "precinct_boro['Precinct/Area'] = precinct_boro['Precinct (%)']/precinct_boro['Area (%)']"
   ]
  },
  {
   "cell_type": "code",
   "execution_count": 27,
   "metadata": {},
   "outputs": [],
   "source": [
    "precinct_boro['Precinct/Population'] = precinct_boro['Precinct (%)']/precinct_boro['Population (%)']"
   ]
  },
  {
   "cell_type": "code",
   "execution_count": 16,
   "metadata": {},
   "outputs": [
    {
     "data": {
      "text/html": [
       "<div>\n",
       "<style scoped>\n",
       "    .dataframe tbody tr th:only-of-type {\n",
       "        vertical-align: middle;\n",
       "    }\n",
       "\n",
       "    .dataframe tbody tr th {\n",
       "        vertical-align: top;\n",
       "    }\n",
       "\n",
       "    .dataframe thead th {\n",
       "        text-align: right;\n",
       "    }\n",
       "</style>\n",
       "<table border=\"1\" class=\"dataframe\">\n",
       "  <thead>\n",
       "    <tr style=\"text-align: right;\">\n",
       "      <th></th>\n",
       "      <th>Boroughs</th>\n",
       "      <th>Precinct (%)</th>\n",
       "      <th>Area (%)</th>\n",
       "      <th>Population (%)</th>\n",
       "      <th>Precinct/Population</th>\n",
       "      <th>Precinct/Area</th>\n",
       "    </tr>\n",
       "  </thead>\n",
       "  <tbody>\n",
       "    <tr>\n",
       "      <th>0</th>\n",
       "      <td>BRONX</td>\n",
       "      <td>22.08</td>\n",
       "      <td>18.47</td>\n",
       "      <td>16.86</td>\n",
       "      <td>1.309609</td>\n",
       "      <td>1.195452</td>\n",
       "    </tr>\n",
       "    <tr>\n",
       "      <th>1</th>\n",
       "      <td>MANHATTAN</td>\n",
       "      <td>31.17</td>\n",
       "      <td>10.86</td>\n",
       "      <td>30.97</td>\n",
       "      <td>1.006458</td>\n",
       "      <td>2.870166</td>\n",
       "    </tr>\n",
       "    <tr>\n",
       "      <th>2</th>\n",
       "      <td>BROOKLYN</td>\n",
       "      <td>40.26</td>\n",
       "      <td>34.54</td>\n",
       "      <td>19.20</td>\n",
       "      <td>2.096875</td>\n",
       "      <td>1.165605</td>\n",
       "    </tr>\n",
       "    <tr>\n",
       "      <th>3</th>\n",
       "      <td>QUEENS</td>\n",
       "      <td>20.78</td>\n",
       "      <td>36.41</td>\n",
       "      <td>27.27</td>\n",
       "      <td>0.762010</td>\n",
       "      <td>0.570722</td>\n",
       "    </tr>\n",
       "    <tr>\n",
       "      <th>4</th>\n",
       "      <td>STATEN ISLAND</td>\n",
       "      <td>5.19</td>\n",
       "      <td>19.27</td>\n",
       "      <td>5.69</td>\n",
       "      <td>0.912127</td>\n",
       "      <td>0.269331</td>\n",
       "    </tr>\n",
       "  </tbody>\n",
       "</table>\n",
       "</div>"
      ],
      "text/plain": [
       "        Boroughs  Precinct (%)  Area (%)  Population (%)  Precinct/Population  \\\n",
       "0          BRONX         22.08     18.47           16.86             1.309609   \n",
       "1      MANHATTAN         31.17     10.86           30.97             1.006458   \n",
       "2       BROOKLYN         40.26     34.54           19.20             2.096875   \n",
       "3         QUEENS         20.78     36.41           27.27             0.762010   \n",
       "4  STATEN ISLAND          5.19     19.27            5.69             0.912127   \n",
       "\n",
       "   Precinct/Area  \n",
       "0       1.195452  \n",
       "1       2.870166  \n",
       "2       1.165605  \n",
       "3       0.570722  \n",
       "4       0.269331  "
      ]
     },
     "execution_count": 16,
     "metadata": {},
     "output_type": "execute_result"
    }
   ],
   "source": [
    "precinct_boro"
   ]
  },
  {
   "cell_type": "code",
   "execution_count": 23,
   "metadata": {},
   "outputs": [
    {
     "data": {
      "image/png": "[encoded data removed]",
      "text/plain": [
       "<Figure size 1008x576 with 1 Axes>"
      ]
     },
     "metadata": {
      "needs_background": "light"
     },
     "output_type": "display_data"
    }
   ],
   "source": [
    "a4_dims = (14, 8)\n",
    "fig, ax = plt.subplots(figsize=a4_dims)\n",
    "sns.barplot(x='Boroughs', y='Precinct/Population', data=precinct_boro, ax=ax)\n",
    "plt.ylabel('Ratio of Precinct by Population')\n",
    "plt.title('Precinct per Population')\n",
    "plt.show()"
   ]
  },
  {
   "cell_type": "code",
   "execution_count": 22,
   "metadata": {},
   "outputs": [
    {
     "data": {
      "image/png": "[encoded data removed]",
      "text/plain": [
       "<Figure size 1008x576 with 1 Axes>"
      ]
     },
     "metadata": {
      "needs_background": "light"
     },
     "output_type": "display_data"
    }
   ],
   "source": [
    "a4_dims = (14, 8)\n",
    "fig, ax = plt.subplots(figsize=a4_dims)\n",
    "sns.barplot(x='Boroughs', y='Precinct/Area', data=precinct_boro, ax=ax)\n",
    "plt.ylabel('Ratio of Precinct per Area')\n",
    "plt.title('Precinct per Area')\n",
    "plt.show()"
   ]
  },
  {
   "cell_type": "code",
   "execution_count": 25,
   "metadata": {},
   "outputs": [
    {
     "data": {
      "image/png": "[encoded data removed]",
      "text/plain": [
       "<Figure size 1008x576 with 1 Axes>"
      ]
     },
     "metadata": {
      "needs_background": "light"
     },
     "output_type": "display_data"
    }
   ],
   "source": [
    "a4_dims = (14, 8)\n",
    "fig, ax = plt.subplots(figsize=a4_dims)\n",
    "plt.plot(precinct_boro['Boroughs'], precinct_boro['Precinct/Population'], color='g')\n",
    "plt.plot(precinct_boro['Boroughs'],precinct_boro['Precinct/Area'], color='orange')\n",
    "plt.xlabel('Boroughs')\n",
    "plt.ylabel('By Population Ratio')\n",
    "plt.title('Comparison between Precinct by Area and Precinct by Population')\n",
    "plt.legend()\n",
    "plt.show()"
   ]
  },
  {
   "cell_type": "code",
   "execution_count": null,
   "metadata": {},
   "outputs": [],
   "source": []
  }
 ],
 "metadata": {
  "kernelspec": {
   "display_name": "Python 3",
   "language": "python",
   "name": "python3"
  },
  "language_info": {
   "codemirror_mode": {
    "name": "ipython",
    "version": 3
   },
   "file_extension": ".py",
   "mimetype": "text/x-python",
   "name": "python",
   "nbconvert_exporter": "python",
   "pygments_lexer": "ipython3",
   "version": "3.7.0"
  }
 },
 "nbformat": 4,
 "nbformat_minor": 2
}
