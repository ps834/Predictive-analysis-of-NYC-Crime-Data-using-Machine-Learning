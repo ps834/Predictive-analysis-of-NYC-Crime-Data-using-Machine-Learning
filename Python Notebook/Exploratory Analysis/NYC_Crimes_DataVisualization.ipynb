{
 "cells": [
  {
   "cell_type": "code",
   "execution_count": 1,
   "metadata": {},
   "outputs": [],
   "source": [
    "# Data exploration\n",
    "import pandas as pd\n",
    "import numpy as np\n",
    "import seaborn as sns\n",
    "import matplotlib.pyplot as plt\n",
    "%matplotlib inline\n",
    "\n",
    "from NYC_GetCleaned_HistoricData import getCleanedDataFrame\n",
    "from NYC_GetCleaned_TotalPopulation import getMeanPopulation\n",
    "import data_utility"
   ]
  },
  {
   "cell_type": "code",
   "execution_count": 2,
   "metadata": {},
   "outputs": [],
   "source": [
    "#Get the Current working directory\n",
    "crimes_original = getCleanedDataFrame()"
   ]
  },
  {
   "cell_type": "code",
   "execution_count": 3,
   "metadata": {},
   "outputs": [
    {
     "data": {
      "text/plain": [
       "(5835784, 16)"
      ]
     },
     "execution_count": 3,
     "metadata": {},
     "output_type": "execute_result"
    }
   ],
   "source": [
    "crimes_original.shape"
   ]
  },
  {
   "cell_type": "code",
   "execution_count": 6,
   "metadata": {},
   "outputs": [
    {
     "data": {
      "text/html": [
       "<div>\n",
       "<style scoped>\n",
       "    .dataframe tbody tr th:only-of-type {\n",
       "        vertical-align: middle;\n",
       "    }\n",
       "\n",
       "    .dataframe tbody tr th {\n",
       "        vertical-align: top;\n",
       "    }\n",
       "\n",
       "    .dataframe thead th {\n",
       "        text-align: right;\n",
       "    }\n",
       "</style>\n",
       "<table border=\"1\" class=\"dataframe\">\n",
       "  <thead>\n",
       "    <tr style=\"text-align: right;\">\n",
       "      <th></th>\n",
       "      <th>CMPLNT_FR_DT</th>\n",
       "      <th>CMPLNT_FR_TM</th>\n",
       "      <th>CMPLNT_TO_DT</th>\n",
       "      <th>CMPLNT_TO_TM</th>\n",
       "      <th>RPT_DT</th>\n",
       "      <th>OFNS_DESC</th>\n",
       "      <th>PD_DESC</th>\n",
       "      <th>CRM_ATPT_CPTD_CD</th>\n",
       "      <th>LAW_CAT_CD</th>\n",
       "      <th>BORO_NM</th>\n",
       "      <th>ADDR_PCT_CD</th>\n",
       "      <th>LOC_OF_OCCUR_DESC</th>\n",
       "      <th>PREM_TYP_DESC</th>\n",
       "      <th>Latitude</th>\n",
       "      <th>Longitude</th>\n",
       "      <th>Lat_Lon</th>\n",
       "      <th>FELONY</th>\n",
       "      <th>MISDEMEANOR</th>\n",
       "      <th>VIOLATION</th>\n",
       "    </tr>\n",
       "    <tr>\n",
       "      <th>StartTime</th>\n",
       "      <th></th>\n",
       "      <th></th>\n",
       "      <th></th>\n",
       "      <th></th>\n",
       "      <th></th>\n",
       "      <th></th>\n",
       "      <th></th>\n",
       "      <th></th>\n",
       "      <th></th>\n",
       "      <th></th>\n",
       "      <th></th>\n",
       "      <th></th>\n",
       "      <th></th>\n",
       "      <th></th>\n",
       "      <th></th>\n",
       "      <th></th>\n",
       "      <th></th>\n",
       "      <th></th>\n",
       "      <th></th>\n",
       "    </tr>\n",
       "  </thead>\n",
       "  <tbody>\n",
       "    <tr>\n",
       "      <th>2014-03-30 20:40:00</th>\n",
       "      <td>3/30/2014</td>\n",
       "      <td>20:40:00</td>\n",
       "      <td>3/30/2014</td>\n",
       "      <td>20:50:00</td>\n",
       "      <td>3/30/2014</td>\n",
       "      <td>DANGEROUS DRUGS</td>\n",
       "      <td>CONTROLLED SUBSTANCE,INTENT TO</td>\n",
       "      <td>ATTEMPTED</td>\n",
       "      <td>FELONY</td>\n",
       "      <td>BRONX</td>\n",
       "      <td>44.0</td>\n",
       "      <td>INSIDE</td>\n",
       "      <td>RESIDENCE - APT. HOUSE</td>\n",
       "      <td>40.836162</td>\n",
       "      <td>-73.915250</td>\n",
       "      <td>(40.836161968, -73.915249813)</td>\n",
       "      <td>1</td>\n",
       "      <td>0</td>\n",
       "      <td>0</td>\n",
       "    </tr>\n",
       "    <tr>\n",
       "      <th>2014-04-16 22:10:00</th>\n",
       "      <td>4/16/2014</td>\n",
       "      <td>22:10:00</td>\n",
       "      <td>4/16/2014</td>\n",
       "      <td>22:12:00</td>\n",
       "      <td>4/17/2014</td>\n",
       "      <td>DANGEROUS DRUGS</td>\n",
       "      <td>CONTROLLED SUBSTANCE,POSSESS.</td>\n",
       "      <td>ATTEMPTED</td>\n",
       "      <td>FELONY</td>\n",
       "      <td>BRONX</td>\n",
       "      <td>47.0</td>\n",
       "      <td>INSIDE</td>\n",
       "      <td>STREET</td>\n",
       "      <td>40.894671</td>\n",
       "      <td>-73.861361</td>\n",
       "      <td>(40.894670712, -73.86136123)</td>\n",
       "      <td>1</td>\n",
       "      <td>0</td>\n",
       "      <td>0</td>\n",
       "    </tr>\n",
       "    <tr>\n",
       "      <th>2014-04-08 13:45:00</th>\n",
       "      <td>4/8/2014</td>\n",
       "      <td>13:45:00</td>\n",
       "      <td>4/8/2014</td>\n",
       "      <td>13:50:00</td>\n",
       "      <td>4/8/2014</td>\n",
       "      <td>DANGEROUS DRUGS</td>\n",
       "      <td>CONTROLLED SUBSTANCE, SALE 5</td>\n",
       "      <td>ATTEMPTED</td>\n",
       "      <td>FELONY</td>\n",
       "      <td>BRONX</td>\n",
       "      <td>52.0</td>\n",
       "      <td>INSIDE</td>\n",
       "      <td>STREET</td>\n",
       "      <td>40.864191</td>\n",
       "      <td>-73.901183</td>\n",
       "      <td>(40.864190693, -73.901182887)</td>\n",
       "      <td>1</td>\n",
       "      <td>0</td>\n",
       "      <td>0</td>\n",
       "    </tr>\n",
       "    <tr>\n",
       "      <th>2014-05-17 21:17:00</th>\n",
       "      <td>5/17/2014</td>\n",
       "      <td>21:17:00</td>\n",
       "      <td>5/17/2014</td>\n",
       "      <td>21:24:00</td>\n",
       "      <td>5/17/2014</td>\n",
       "      <td>FELONY ASSAULT</td>\n",
       "      <td>ASSAULT 2,1,PEACE OFFICER</td>\n",
       "      <td>ATTEMPTED</td>\n",
       "      <td>FELONY</td>\n",
       "      <td>BRONX</td>\n",
       "      <td>40.0</td>\n",
       "      <td>INSIDE</td>\n",
       "      <td>STREET</td>\n",
       "      <td>40.813052</td>\n",
       "      <td>-73.908159</td>\n",
       "      <td>(40.813051503, -73.908158845)</td>\n",
       "      <td>1</td>\n",
       "      <td>0</td>\n",
       "      <td>0</td>\n",
       "    </tr>\n",
       "    <tr>\n",
       "      <th>2014-04-26 00:00:00</th>\n",
       "      <td>4/26/2014</td>\n",
       "      <td>00:00:00</td>\n",
       "      <td>4/26/2014</td>\n",
       "      <td>00:01:00</td>\n",
       "      <td>4/26/2014</td>\n",
       "      <td>FELONY ASSAULT</td>\n",
       "      <td>ASSAULT 2,1,UNCLASSIFIED</td>\n",
       "      <td>ATTEMPTED</td>\n",
       "      <td>FELONY</td>\n",
       "      <td>BRONX</td>\n",
       "      <td>41.0</td>\n",
       "      <td>INSIDE</td>\n",
       "      <td>STREET</td>\n",
       "      <td>40.814602</td>\n",
       "      <td>-73.885895</td>\n",
       "      <td>(40.814601602, -73.885895461)</td>\n",
       "      <td>1</td>\n",
       "      <td>0</td>\n",
       "      <td>0</td>\n",
       "    </tr>\n",
       "  </tbody>\n",
       "</table>\n",
       "</div>"
      ],
      "text/plain": [
       "                    CMPLNT_FR_DT CMPLNT_FR_TM CMPLNT_TO_DT CMPLNT_TO_TM  \\\n",
       "StartTime                                                                 \n",
       "2014-03-30 20:40:00    3/30/2014     20:40:00    3/30/2014     20:50:00   \n",
       "2014-04-16 22:10:00    4/16/2014     22:10:00    4/16/2014     22:12:00   \n",
       "2014-04-08 13:45:00     4/8/2014     13:45:00     4/8/2014     13:50:00   \n",
       "2014-05-17 21:17:00    5/17/2014     21:17:00    5/17/2014     21:24:00   \n",
       "2014-04-26 00:00:00    4/26/2014     00:00:00    4/26/2014     00:01:00   \n",
       "\n",
       "                        RPT_DT        OFNS_DESC  \\\n",
       "StartTime                                         \n",
       "2014-03-30 20:40:00  3/30/2014  DANGEROUS DRUGS   \n",
       "2014-04-16 22:10:00  4/17/2014  DANGEROUS DRUGS   \n",
       "2014-04-08 13:45:00   4/8/2014  DANGEROUS DRUGS   \n",
       "2014-05-17 21:17:00  5/17/2014   FELONY ASSAULT   \n",
       "2014-04-26 00:00:00  4/26/2014   FELONY ASSAULT   \n",
       "\n",
       "                                            PD_DESC CRM_ATPT_CPTD_CD  \\\n",
       "StartTime                                                              \n",
       "2014-03-30 20:40:00  CONTROLLED SUBSTANCE,INTENT TO        ATTEMPTED   \n",
       "2014-04-16 22:10:00   CONTROLLED SUBSTANCE,POSSESS.        ATTEMPTED   \n",
       "2014-04-08 13:45:00    CONTROLLED SUBSTANCE, SALE 5        ATTEMPTED   \n",
       "2014-05-17 21:17:00       ASSAULT 2,1,PEACE OFFICER        ATTEMPTED   \n",
       "2014-04-26 00:00:00        ASSAULT 2,1,UNCLASSIFIED        ATTEMPTED   \n",
       "\n",
       "                    LAW_CAT_CD BORO_NM  ADDR_PCT_CD LOC_OF_OCCUR_DESC  \\\n",
       "StartTime                                                               \n",
       "2014-03-30 20:40:00     FELONY   BRONX         44.0            INSIDE   \n",
       "2014-04-16 22:10:00     FELONY   BRONX         47.0            INSIDE   \n",
       "2014-04-08 13:45:00     FELONY   BRONX         52.0            INSIDE   \n",
       "2014-05-17 21:17:00     FELONY   BRONX         40.0            INSIDE   \n",
       "2014-04-26 00:00:00     FELONY   BRONX         41.0            INSIDE   \n",
       "\n",
       "                              PREM_TYP_DESC   Latitude  Longitude  \\\n",
       "StartTime                                                           \n",
       "2014-03-30 20:40:00  RESIDENCE - APT. HOUSE  40.836162 -73.915250   \n",
       "2014-04-16 22:10:00                  STREET  40.894671 -73.861361   \n",
       "2014-04-08 13:45:00                  STREET  40.864191 -73.901183   \n",
       "2014-05-17 21:17:00                  STREET  40.813052 -73.908159   \n",
       "2014-04-26 00:00:00                  STREET  40.814602 -73.885895   \n",
       "\n",
       "                                           Lat_Lon  FELONY  MISDEMEANOR  \\\n",
       "StartTime                                                                 \n",
       "2014-03-30 20:40:00  (40.836161968, -73.915249813)       1            0   \n",
       "2014-04-16 22:10:00   (40.894670712, -73.86136123)       1            0   \n",
       "2014-04-08 13:45:00  (40.864190693, -73.901182887)       1            0   \n",
       "2014-05-17 21:17:00  (40.813051503, -73.908158845)       1            0   \n",
       "2014-04-26 00:00:00  (40.814601602, -73.885895461)       1            0   \n",
       "\n",
       "                     VIOLATION  \n",
       "StartTime                       \n",
       "2014-03-30 20:40:00          0  \n",
       "2014-04-16 22:10:00          0  \n",
       "2014-04-08 13:45:00          0  \n",
       "2014-05-17 21:17:00          0  \n",
       "2014-04-26 00:00:00          0  "
      ]
     },
     "execution_count": 6,
     "metadata": {},
     "output_type": "execute_result"
    }
   ],
   "source": [
    "\"\"\"Create a datetime index of times that crimes were reported to have been committed\"\"\"\n",
    "\n",
    "dfCopy = crimes_original.copy()\n",
    "def eliminate_dates(x):\n",
    "    if x[2] > '2050':\n",
    "        x = None\n",
    "    elif x[2] < '2010':\n",
    "        x = None\n",
    "    else:\n",
    "        aa= '/'.join(x)\n",
    "        return (aa)\n",
    "\n",
    "#get dummy columns for crime categories\n",
    "dfCopy = dfCopy.join(dfCopy['LAW_CAT_CD'].str.get_dummies())\n",
    "\n",
    "#dfCopy = dfCopy.join(dfCopy['BORO_NM'].str.get_dummies())\n",
    "\n",
    "#Create index with DateTime\n",
    "dfCopy['CMPLNT_FR_DT'] = dfCopy['CMPLNT_FR_DT'].str.split(\"/\")\n",
    "dfCopy['CMPLNT_FR_DT'] = dfCopy['CMPLNT_FR_DT'].apply(lambda x: eliminate_dates(x))\n",
    "\n",
    "#Combing date and time columns\n",
    "dfCopy['StartTime'] = dfCopy['CMPLNT_FR_DT'] +' '+dfCopy['CMPLNT_FR_TM']\n",
    "dfCopy['StartTime'] = pd.to_datetime(dfCopy['StartTime'])\n",
    "\n",
    "#set full date as index\n",
    "dfCopy.set_index('StartTime', inplace=True)          \n",
    "\n",
    "dfCopy.head()"
   ]
  },
  {
   "cell_type": "code",
   "execution_count": 5,
   "metadata": {},
   "outputs": [
    {
     "data": {
      "text/plain": [
       "(5835784, 19)"
      ]
     },
     "execution_count": 5,
     "metadata": {},
     "output_type": "execute_result"
    }
   ],
   "source": [
    "dfCopy.shape"
   ]
  },
  {
   "cell_type": "code",
   "execution_count": 6,
   "metadata": {},
   "outputs": [],
   "source": [
    "#Get the total mean population of NYC based on borough\n",
    "\"\"\" Bronx - 1, Brooklyn - 2, Manhattan - 3, Queens - 4, Staten Island - 5 \"\"\"\n",
    "\n",
    "bronxPop = getMeanPopulation('BRONX', 1)\n",
    "brookylnPop = getMeanPopulation('BROOKLYN', 2)\n",
    "manhattanPop = getMeanPopulation('MANHATTAN', 3)\n",
    "queensPop = getMeanPopulation('QUEENS', 4)\n",
    "statIslandPop = getMeanPopulation('STATEN ISLAND', 5)"
   ]
  },
  {
   "cell_type": "code",
   "execution_count": 7,
   "metadata": {},
   "outputs": [
    {
     "name": "stdout",
     "output_type": "stream",
     "text": [
      "1415948.0\n",
      "2600681.5\n",
      "1612077.0\n",
      "2290148.5\n",
      "477942.5\n"
     ]
    }
   ],
   "source": [
    "print(bronxPop)\n",
    "print(brookylnPop)\n",
    "print(manhattanPop)\n",
    "print(queensPop)\n",
    "print(statIslandPop)"
   ]
  },
  {
   "cell_type": "code",
   "execution_count": 8,
   "metadata": {},
   "outputs": [
    {
     "data": {
      "image/png": "[encoded data removed]",
      "text/plain": [
       "<Figure size 864x432 with 1 Axes>"
      ]
     },
     "metadata": {
      "needs_background": "light"
     },
     "output_type": "display_data"
    }
   ],
   "source": [
    "\"\"\"Analysis of Violations, Felonies and Misdemeanor\"\"\"\n",
    "\n",
    "dfYear = dfCopy.copy()\n",
    "dfYear.index = dfYear.index.year\n",
    "vis0 = dfYear.groupby([dfYear.index.get_level_values(0)])[['VIOLATION','FELONY','MISDEMEANOR']].sum()\n",
    "\n",
    "vis0.plot.bar(figsize=(12,6))\n",
    "plt.title('Amount of crimes per year')\n",
    "plt.legend(loc='upper left')\n",
    "plt.xlabel('Year')\n",
    "plt.show()"
   ]
  },
  {
   "cell_type": "code",
   "execution_count": 9,
   "metadata": {},
   "outputs": [
    {
     "data": {
      "image/png": "[encoded data removed]",
      "text/plain": [
       "<Figure size 1080x720 with 1 Axes>"
      ]
     },
     "metadata": {
      "needs_background": "light"
     },
     "output_type": "display_data"
    }
   ],
   "source": [
    "vis0.plot.bar(figsize=(15,10))\n",
    "plt.title('Analysis of Violations, Felonies and Misdemeanor based on borough')\n",
    "plt.legend(loc='upper left')\n",
    "plt.xlabel('Borough')\n",
    "plt.show()"
   ]
  },
  {
   "cell_type": "code",
   "execution_count": 10,
   "metadata": {},
   "outputs": [
    {
     "data": {
      "image/png": "[encoded data removed]",
      "text/plain": [
       "<Figure size 864x432 with 1 Axes>"
      ]
     },
     "metadata": {
      "needs_background": "light"
     },
     "output_type": "display_data"
    }
   ],
   "source": [
    "dfMonth = dfCopy.copy()\n",
    "dfMonth.index = dfMonth.index.month\n",
    "vis1 = dfMonth.groupby([dfMonth.index.get_level_values(0)])[['VIOLATION','FELONY','MISDEMEANOR']].sum()\n",
    "\n",
    "vis1.plot.bar(figsize=(12,6))\n",
    "plt.title('Amount of crime per month')\n",
    "plt.legend(loc='upper left')\n",
    "plt.xlabel('Month')\n",
    "plt.show()"
   ]
  },
  {
   "cell_type": "code",
   "execution_count": 11,
   "metadata": {},
   "outputs": [
    {
     "data": {
      "image/png": "[encoded data removed]",
      "text/plain": [
       "<Figure size 864x432 with 1 Axes>"
      ]
     },
     "metadata": {
      "needs_background": "light"
     },
     "output_type": "display_data"
    }
   ],
   "source": [
    "dfDay = dfCopy.copy() \n",
    "dfDay.index = dfDay.index.day\n",
    "vis2 = dfDay.groupby([dfDay.index.get_level_values(0)])[['VIOLATION','FELONY','MISDEMEANOR']].sum()\n",
    "\n",
    "vis2.plot.bar(figsize=(12,6))\n",
    "plt.title('Amount of crime per day')\n",
    "plt.xlabel('Day of Month')\n",
    "plt.show()\n"
   ]
  },
  {
   "cell_type": "code",
   "execution_count": 12,
   "metadata": {},
   "outputs": [
    {
     "data": {
      "image/png": "[encoded data removed]",
      "text/plain": [
       "<Figure size 864x432 with 1 Axes>"
      ]
     },
     "metadata": {
      "needs_background": "light"
     },
     "output_type": "display_data"
    }
   ],
   "source": [
    "dfHour = dfCopy.copy() \n",
    "dfHour.index = dfHour.index.hour  \n",
    "\n",
    "vis3 = dfHour.groupby([dfHour.index.get_level_values(0)])[['VIOLATION','FELONY','MISDEMEANOR']].sum()\n",
    "vis3.plot.bar(figsize=(12,6))\n",
    "plt.title('Amount of crime per hour')\n",
    "plt.xlabel('Time of day')\n",
    "plt.show()"
   ]
  },
  {
   "cell_type": "code",
   "execution_count": 13,
   "metadata": {},
   "outputs": [
    {
     "data": {
      "image/png": "[encoded data removed]",
      "text/plain": [
       "<Figure size 864x432 with 1 Axes>"
      ]
     },
     "metadata": {
      "needs_background": "light"
     },
     "output_type": "display_data"
    }
   ],
   "source": [
    "\"\"\"All NYC crimes reported by boro \"\"\"\n",
    "\n",
    "crimesByBoro = dfCopy.copy()\n",
    "crimesByBoro.index = crimesByBoro.index.year\n",
    "crimesByBoro['BORO_NM'].value_counts().plot.bar(figsize=(12,6))\n",
    "\n",
    "plt.ylabel('Count')\n",
    "plt.title('All crimes by Borough')\n",
    "plt.show()"
   ]
  },
  {
   "cell_type": "code",
   "execution_count": 14,
   "metadata": {},
   "outputs": [],
   "source": [
    "b1 = crimesByBoro['BORO_NM'].value_counts()\n",
    "borough1 = pd.DataFrame(b1).reset_index()\n",
    "borough1.columns=['Borough','Crimes']"
   ]
  },
  {
   "cell_type": "code",
   "execution_count": 15,
   "metadata": {},
   "outputs": [
    {
     "data": {
      "text/html": [
       "<div>\n",
       "<style scoped>\n",
       "    .dataframe tbody tr th:only-of-type {\n",
       "        vertical-align: middle;\n",
       "    }\n",
       "\n",
       "    .dataframe tbody tr th {\n",
       "        vertical-align: top;\n",
       "    }\n",
       "\n",
       "    .dataframe thead th {\n",
       "        text-align: right;\n",
       "    }\n",
       "</style>\n",
       "<table border=\"1\" class=\"dataframe\">\n",
       "  <thead>\n",
       "    <tr style=\"text-align: right;\">\n",
       "      <th></th>\n",
       "      <th>Borough</th>\n",
       "      <th>Crimes</th>\n",
       "      <th>Crime %</th>\n",
       "    </tr>\n",
       "  </thead>\n",
       "  <tbody>\n",
       "    <tr>\n",
       "      <th>0</th>\n",
       "      <td>BROOKLYN</td>\n",
       "      <td>1755449</td>\n",
       "      <td>0.300808</td>\n",
       "    </tr>\n",
       "    <tr>\n",
       "      <th>1</th>\n",
       "      <td>MANHATTAN</td>\n",
       "      <td>1400213</td>\n",
       "      <td>0.239936</td>\n",
       "    </tr>\n",
       "    <tr>\n",
       "      <th>2</th>\n",
       "      <td>BRONX</td>\n",
       "      <td>1266881</td>\n",
       "      <td>0.217088</td>\n",
       "    </tr>\n",
       "    <tr>\n",
       "      <th>3</th>\n",
       "      <td>QUEENS</td>\n",
       "      <td>1136167</td>\n",
       "      <td>0.194690</td>\n",
       "    </tr>\n",
       "    <tr>\n",
       "      <th>4</th>\n",
       "      <td>STATEN ISLAND</td>\n",
       "      <td>277074</td>\n",
       "      <td>0.047478</td>\n",
       "    </tr>\n",
       "  </tbody>\n",
       "</table>\n",
       "</div>"
      ],
      "text/plain": [
       "         Borough   Crimes   Crime %\n",
       "0       BROOKLYN  1755449  0.300808\n",
       "1      MANHATTAN  1400213  0.239936\n",
       "2          BRONX  1266881  0.217088\n",
       "3         QUEENS  1136167  0.194690\n",
       "4  STATEN ISLAND   277074  0.047478"
      ]
     },
     "execution_count": 15,
     "metadata": {},
     "output_type": "execute_result"
    }
   ],
   "source": [
    "total = sum(borough1['Crimes'])\n",
    "borough1['Crime %'] = borough1['Crimes']/total\n",
    "borough1.head()"
   ]
  },
  {
   "cell_type": "code",
   "execution_count": 17,
   "metadata": {},
   "outputs": [
    {
     "ename": "MemoryError",
     "evalue": "",
     "output_type": "error",
     "traceback": [
      "\u001b[1;31m---------------------------------------------------------------------------\u001b[0m",
      "\u001b[1;31mMemoryError\u001b[0m                               Traceback (most recent call last)",
      "\u001b[1;32m<ipython-input-17-7e3309810cf2>\u001b[0m in \u001b[0;36m<module>\u001b[1;34m()\u001b[0m\n\u001b[1;32m----> 1\u001b[1;33m \u001b[0mdfFmv\u001b[0m \u001b[1;33m=\u001b[0m \u001b[0mdfCopy\u001b[0m\u001b[1;33m.\u001b[0m\u001b[0mcopy\u001b[0m\u001b[1;33m(\u001b[0m\u001b[1;33m)\u001b[0m\u001b[1;33m\u001b[0m\u001b[0m\n\u001b[0m\u001b[0;32m      2\u001b[0m \u001b[1;31m#dfFmv.index = dfHour.index.hour\u001b[0m\u001b[1;33m\u001b[0m\u001b[1;33m\u001b[0m\u001b[0m\n\u001b[0;32m      3\u001b[0m \u001b[1;33m\u001b[0m\u001b[0m\n\u001b[0;32m      4\u001b[0m \u001b[0mvis3\u001b[0m \u001b[1;33m=\u001b[0m \u001b[0mdfFmv\u001b[0m\u001b[1;33m.\u001b[0m\u001b[0mgroupby\u001b[0m\u001b[1;33m(\u001b[0m\u001b[1;33m[\u001b[0m\u001b[1;34m'BORO_NM'\u001b[0m\u001b[1;33m]\u001b[0m\u001b[1;33m)\u001b[0m\u001b[1;33m[\u001b[0m\u001b[1;33m[\u001b[0m\u001b[1;34m'VIOLATION'\u001b[0m\u001b[1;33m,\u001b[0m\u001b[1;34m'FELONY'\u001b[0m\u001b[1;33m,\u001b[0m\u001b[1;34m'MISDEMEANOR'\u001b[0m\u001b[1;33m]\u001b[0m\u001b[1;33m]\u001b[0m\u001b[1;33m.\u001b[0m\u001b[0msum\u001b[0m\u001b[1;33m(\u001b[0m\u001b[1;33m)\u001b[0m\u001b[1;33m\u001b[0m\u001b[0m\n\u001b[0;32m      5\u001b[0m \u001b[1;33m\u001b[0m\u001b[0m\n",
      "\u001b[1;32m~\\Anaconda3\\lib\\site-packages\\pandas\\core\\generic.py\u001b[0m in \u001b[0;36mcopy\u001b[1;34m(self, deep)\u001b[0m\n\u001b[0;32m   5112\u001b[0m         \u001b[0mdtype\u001b[0m\u001b[1;33m:\u001b[0m \u001b[0mobject\u001b[0m\u001b[1;33m\u001b[0m\u001b[0m\n\u001b[0;32m   5113\u001b[0m         \"\"\"\n\u001b[1;32m-> 5114\u001b[1;33m         \u001b[0mdata\u001b[0m \u001b[1;33m=\u001b[0m \u001b[0mself\u001b[0m\u001b[1;33m.\u001b[0m\u001b[0m_data\u001b[0m\u001b[1;33m.\u001b[0m\u001b[0mcopy\u001b[0m\u001b[1;33m(\u001b[0m\u001b[0mdeep\u001b[0m\u001b[1;33m=\u001b[0m\u001b[0mdeep\u001b[0m\u001b[1;33m)\u001b[0m\u001b[1;33m\u001b[0m\u001b[0m\n\u001b[0m\u001b[0;32m   5115\u001b[0m         \u001b[1;32mreturn\u001b[0m \u001b[0mself\u001b[0m\u001b[1;33m.\u001b[0m\u001b[0m_constructor\u001b[0m\u001b[1;33m(\u001b[0m\u001b[0mdata\u001b[0m\u001b[1;33m)\u001b[0m\u001b[1;33m.\u001b[0m\u001b[0m__finalize__\u001b[0m\u001b[1;33m(\u001b[0m\u001b[0mself\u001b[0m\u001b[1;33m)\u001b[0m\u001b[1;33m\u001b[0m\u001b[0m\n\u001b[0;32m   5116\u001b[0m \u001b[1;33m\u001b[0m\u001b[0m\n",
      "\u001b[1;32m~\\Anaconda3\\lib\\site-packages\\pandas\\core\\internals.py\u001b[0m in \u001b[0;36mcopy\u001b[1;34m(self, deep, mgr)\u001b[0m\n\u001b[0;32m   3918\u001b[0m             \u001b[0mnew_axes\u001b[0m \u001b[1;33m=\u001b[0m \u001b[0mlist\u001b[0m\u001b[1;33m(\u001b[0m\u001b[0mself\u001b[0m\u001b[1;33m.\u001b[0m\u001b[0maxes\u001b[0m\u001b[1;33m)\u001b[0m\u001b[1;33m\u001b[0m\u001b[0m\n\u001b[0;32m   3919\u001b[0m         return self.apply('copy', axes=new_axes, deep=deep,\n\u001b[1;32m-> 3920\u001b[1;33m                           do_integrity_check=False)\n\u001b[0m\u001b[0;32m   3921\u001b[0m \u001b[1;33m\u001b[0m\u001b[0m\n\u001b[0;32m   3922\u001b[0m     \u001b[1;32mdef\u001b[0m \u001b[0mas_array\u001b[0m\u001b[1;33m(\u001b[0m\u001b[0mself\u001b[0m\u001b[1;33m,\u001b[0m \u001b[0mtranspose\u001b[0m\u001b[1;33m=\u001b[0m\u001b[1;32mFalse\u001b[0m\u001b[1;33m,\u001b[0m \u001b[0mitems\u001b[0m\u001b[1;33m=\u001b[0m\u001b[1;32mNone\u001b[0m\u001b[1;33m)\u001b[0m\u001b[1;33m:\u001b[0m\u001b[1;33m\u001b[0m\u001b[0m\n",
      "\u001b[1;32m~\\Anaconda3\\lib\\site-packages\\pandas\\core\\internals.py\u001b[0m in \u001b[0;36mapply\u001b[1;34m(self, f, axes, filter, do_integrity_check, consolidate, **kwargs)\u001b[0m\n\u001b[0;32m   3579\u001b[0m \u001b[1;33m\u001b[0m\u001b[0m\n\u001b[0;32m   3580\u001b[0m             \u001b[0mkwargs\u001b[0m\u001b[1;33m[\u001b[0m\u001b[1;34m'mgr'\u001b[0m\u001b[1;33m]\u001b[0m \u001b[1;33m=\u001b[0m \u001b[0mself\u001b[0m\u001b[1;33m\u001b[0m\u001b[0m\n\u001b[1;32m-> 3581\u001b[1;33m             \u001b[0mapplied\u001b[0m \u001b[1;33m=\u001b[0m \u001b[0mgetattr\u001b[0m\u001b[1;33m(\u001b[0m\u001b[0mb\u001b[0m\u001b[1;33m,\u001b[0m \u001b[0mf\u001b[0m\u001b[1;33m)\u001b[0m\u001b[1;33m(\u001b[0m\u001b[1;33m**\u001b[0m\u001b[0mkwargs\u001b[0m\u001b[1;33m)\u001b[0m\u001b[1;33m\u001b[0m\u001b[0m\n\u001b[0m\u001b[0;32m   3582\u001b[0m             \u001b[0mresult_blocks\u001b[0m \u001b[1;33m=\u001b[0m \u001b[0m_extend_blocks\u001b[0m\u001b[1;33m(\u001b[0m\u001b[0mapplied\u001b[0m\u001b[1;33m,\u001b[0m \u001b[0mresult_blocks\u001b[0m\u001b[1;33m)\u001b[0m\u001b[1;33m\u001b[0m\u001b[0m\n\u001b[0;32m   3583\u001b[0m \u001b[1;33m\u001b[0m\u001b[0m\n",
      "\u001b[1;32m~\\Anaconda3\\lib\\site-packages\\pandas\\core\\internals.py\u001b[0m in \u001b[0;36mcopy\u001b[1;34m(self, deep, mgr)\u001b[0m\n\u001b[0;32m    776\u001b[0m         \u001b[0mvalues\u001b[0m \u001b[1;33m=\u001b[0m \u001b[0mself\u001b[0m\u001b[1;33m.\u001b[0m\u001b[0mvalues\u001b[0m\u001b[1;33m\u001b[0m\u001b[0m\n\u001b[0;32m    777\u001b[0m         \u001b[1;32mif\u001b[0m \u001b[0mdeep\u001b[0m\u001b[1;33m:\u001b[0m\u001b[1;33m\u001b[0m\u001b[0m\n\u001b[1;32m--> 778\u001b[1;33m             \u001b[0mvalues\u001b[0m \u001b[1;33m=\u001b[0m \u001b[0mvalues\u001b[0m\u001b[1;33m.\u001b[0m\u001b[0mcopy\u001b[0m\u001b[1;33m(\u001b[0m\u001b[1;33m)\u001b[0m\u001b[1;33m\u001b[0m\u001b[0m\n\u001b[0m\u001b[0;32m    779\u001b[0m         \u001b[1;32mreturn\u001b[0m \u001b[0mself\u001b[0m\u001b[1;33m.\u001b[0m\u001b[0mmake_block_same_class\u001b[0m\u001b[1;33m(\u001b[0m\u001b[0mvalues\u001b[0m\u001b[1;33m)\u001b[0m\u001b[1;33m\u001b[0m\u001b[0m\n\u001b[0;32m    780\u001b[0m \u001b[1;33m\u001b[0m\u001b[0m\n",
      "\u001b[1;31mMemoryError\u001b[0m: "
     ]
    }
   ],
   "source": [
    "dfFmv = dfCopy.copy() \n",
    "#dfFmv.index = dfHour.index.hour  \n",
    "\n",
    "vis3 = dfFmv.groupby(['BORO_NM'])[['VIOLATION','FELONY','MISDEMEANOR']].sum()\n",
    "\n",
    "print(vis3)\n",
    "\n",
    "totalVio = sum(vis3['VIOLATION'])\n",
    "print(totalVio)\n",
    "\n",
    "bronxCrime = (vis3['VIOLATION'][0]/totalVio)*100\n",
    "brookCrime = (vis3['VIOLATION'][1]/totalVio)*100\n",
    "manCrime = (vis3['VIOLATION'][2]/totalVio)*100\n",
    "queensCrime = (vis3['VIOLATION'][3]/totalVio)*100\n",
    "statIslandCrime = (vis3['VIOLATION'][4]/totalVio)*100\n",
    "print(bronxCrime)\n",
    "\n",
    "totalFel = sum(vis3['FELONY'])\n",
    "print(totalFel)\n",
    "\n",
    "bronxFelCrime = (vis3['FELONY'][0]/totalFel)*100\n",
    "brookFelCrime = (vis3['FELONY'][1]/totalFel)*100\n",
    "manFelCrime = (vis3['FELONY'][2]/totalFel)*100\n",
    "queensFelCrime = (vis3['FELONY'][3]/totalFel)*100\n",
    "statIslandFelCrime = (vis3['FELONY'][4]/totalFel)*100\n",
    "print(bronxFelCrime)\n",
    "\n",
    "totalMis = sum(vis3['MISDEMEANOR'])\n",
    "print(totalMis) \n",
    "\n",
    "bronxMisCrime = (vis3['MISDEMEANOR'][0]/totalMis)*100\n",
    "brookMisCrime = (vis3['MISDEMEANOR'][1]/totalMis)*100\n",
    "manMisCrime = (vis3['MISDEMEANOR'][2]/totalMis)*100\n",
    "queensMisCrime = (vis3['MISDEMEANOR'][3]/totalMis)*100\n",
    "statIslandMisCrime = (vis3['MISDEMEANOR'][4]/totalMis)*100\n",
    "\n",
    "print(bronxMisCrime)\n",
    "print(brookMisCrime)\n",
    "print(manMisCrime)\n",
    "print(queensMisCrime)\n",
    "print(statIslandMisCrime)\n",
    "\n",
    "\n"
   ]
  },
  {
   "cell_type": "code",
   "execution_count": null,
   "metadata": {},
   "outputs": [],
   "source": [
    "#Define the arrays  \n",
    "areaList = []\n",
    "countlist = []\n",
    "pop = []\n",
    "popPercent=[]"
   ]
  },
  {
   "cell_type": "code",
   "execution_count": null,
   "metadata": {},
   "outputs": [],
   "source": [
    "def getPopulation(borolist):\n",
    "    pop.clear()\n",
    "    popPercent.clear()\n",
    "    i=1\n",
    "    for boro in borolist:\n",
    "        popValue = getMeanPopulation(boro,i)\n",
    "        pop.append(popValue)\n",
    "        i = i+1\n",
    "    popsum = int(sum(pop))\n",
    "    for value in pop:\n",
    "        popPercentValue = value*100/popsum\n",
    "        popPercent.append(round(popPercentValue,2))\n",
    "    return popPercent    \n",
    "    "
   ]
  },
  {
   "cell_type": "code",
   "execution_count": null,
   "metadata": {},
   "outputs": [],
   "source": [
    "borolist =['BRONX','BROOKLYN','MANHATTAN','QUEENS','STATEN ISLAND']\n",
    "popPerCent = getPopulation(borolist)"
   ]
  },
  {
   "cell_type": "code",
   "execution_count": null,
   "metadata": {},
   "outputs": [],
   "source": [
    "popPerCent"
   ]
  },
  {
   "cell_type": "code",
   "execution_count": null,
   "metadata": {},
   "outputs": [],
   "source": [
    "###Violation\n",
    "\n",
    "bronxVioFinal = bronxCrime/popPerCent[0]\n",
    "brookVioFinal = brookCrime/popPerCent[1]\n",
    "manVioFinal = manCrime/popPerCent[2]\n",
    "queensVioFinal = queensCrime/popPerCent[3]\n",
    "statIslandVioFinal = statIslandCrime/popPerCent[4]\n",
    "\n",
    "\n",
    "###Felony\n",
    "\n",
    "bronxFelFinal = bronxFelCrime/popPerCent[0]\n",
    "brookFelFinal = brookFelCrime/popPerCent[1]\n",
    "manFelFinal = manFelCrime/popPerCent[2]\n",
    "queensFelFinal = queensFelCrime/popPerCent[3]\n",
    "statIslandFelFinal = statIslandFelCrime/popPerCent[4]\n",
    "\n",
    "\n",
    "###Misdemeanor Crime Per Pop\n",
    "\n",
    "bronxMisFinal = bronxMisCrime/popPerCent[0]\n",
    "brookMisFinal = brookMisCrime/popPerCent[1]\n",
    "manMisFinal = manMisCrime/popPerCent[2]\n",
    "queensMisFinal = queensMisCrime/popPerCent[3]\n",
    "statIslandMisFinal = statIslandMisCrime/popPerCent[4]\n",
    "\n"
   ]
  },
  {
   "cell_type": "code",
   "execution_count": null,
   "metadata": {},
   "outputs": [],
   "source": [
    "boro_fmv = { 'Borough': ['BRONX','BROOKLYN','MANHATTAN','QUEENS','STATEN ISLAND'],\n",
    "             'Violation': [bronxVioFinal,brookVioFinal,manVioFinal,queensVioFinal,statIslandVioFinal],\n",
    "             'Felony': [bronxFelFinal,brookFelFinal,manFelFinal,queensFelFinal,statIslandFelFinal],\n",
    "             'Misdemeanor': [bronxMisFinal,brookMisFinal,manMisFinal,queensMisFinal,statIslandMisFinal],           \n",
    "           }"
   ]
  },
  {
   "cell_type": "code",
   "execution_count": null,
   "metadata": {},
   "outputs": [],
   "source": [
    "boro_fmv_df = pd.DataFrame(boro_fmv)\n",
    "boro_fmv_df"
   ]
  },
  {
   "cell_type": "code",
   "execution_count": null,
   "metadata": {},
   "outputs": [],
   "source": [
    "boro_fmv_df.plot.bar(figsize=(18,10))\n",
    "plt.title('Analysis based on fmv crimes per population')\n",
    "plt.xlabel('Borough')\n",
    "plt.axes.set_xtickslabel(['BRONX','BROOKLYN','MANHATTAN','QUEENS','STATEN ISLAND'])\n",
    "plt.show()"
   ]
  },
  {
   "cell_type": "code",
   "execution_count": null,
   "metadata": {},
   "outputs": [],
   "source": [
    "bronxPopFinal = (borough1['Crime %'][2])/popPerCent[0]\n",
    "brookPopFinal = (borough1['Crime %'][0])/popPerCent[1]\n",
    "manPopFinal = (borough1['Crime %'][1])/popPerCent[2]\n",
    "queensPopFinal = (borough1['Crime %'][3])/popPerCent[3]\n",
    "statIslandPopFinal = (borough1['Crime %'][4])/popPerCent[4]"
   ]
  },
  {
   "cell_type": "code",
   "execution_count": null,
   "metadata": {},
   "outputs": [],
   "source": [
    "boro_CrimePop = { 'Borough': ['BRONX','BROOKLYN','MANHATTAN','QUEENS','STATEN ISLAND'],\n",
    "             'Crime_per_pop': [bronxPopFinal,brookPopFinal,manPopFinal,queensPopFinal,statIslandPopFinal]          \n",
    "           }"
   ]
  },
  {
   "cell_type": "code",
   "execution_count": null,
   "metadata": {},
   "outputs": [],
   "source": [
    "boro_crimepo_df = pd.DataFrame(boro_CrimePop)\n",
    "boro_crimepo_df"
   ]
  },
  {
   "cell_type": "code",
   "execution_count": null,
   "metadata": {},
   "outputs": [],
   "source": [
    "#boro_crimepo_df['Crime_per_pop'] =  (boro_crimes['Crimes'] / boro_crimes['Mean Population'])*100\n",
    "\n",
    "a4_dims = (15, 10)\n",
    "fig, ax = plt.subplots(figsize=a4_dims)\n",
    "sns.barplot(x='Borough', y='Crime_per_pop', data=boro_crimepo_df, ax=ax)\n",
    "plt.ylabel('Percentage')\n",
    "plt.title('Crimes per boro population')\n",
    "plt.show()"
   ]
  },
  {
   "cell_type": "code",
   "execution_count": null,
   "metadata": {},
   "outputs": [],
   "source": []
  }
 ],
 "metadata": {
  "kernelspec": {
   "display_name": "Python 3",
   "language": "python",
   "name": "python3"
  },
  "language_info": {
   "codemirror_mode": {
    "name": "ipython",
    "version": 3
   },
   "file_extension": ".py",
   "mimetype": "text/x-python",
   "name": "python",
   "nbconvert_exporter": "python",
   "pygments_lexer": "ipython3",
   "version": "3.7.0"
  }
 },
 "nbformat": 4,
 "nbformat_minor": 2
}
