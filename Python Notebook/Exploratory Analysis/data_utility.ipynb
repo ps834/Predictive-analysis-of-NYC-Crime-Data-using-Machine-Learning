{
 "cells": [
  {
   "cell_type": "code",
   "execution_count": 1,
   "metadata": {},
   "outputs": [],
   "source": [
    "import numpy as np\n",
    "import pandas as pd\n"
   ]
  },
  {
   "cell_type": "code",
   "execution_count": 2,
   "metadata": {},
   "outputs": [],
   "source": [
    "#function to get current directory\n",
    "def getCurrentDirectory():\n",
    "    import os\n",
    "    print(os.listdir('../'))"
   ]
  },
  {
   "cell_type": "code",
   "execution_count": 3,
   "metadata": {},
   "outputs": [],
   "source": [
    "#function to read csv file\n",
    "def readCSVfile(path):\n",
    "    crimes_original = pd.read_csv(path, low_memory=False)\n",
    "    return crimes_original\n"
   ]
  },
  {
   "cell_type": "code",
   "execution_count": 4,
   "metadata": {},
   "outputs": [],
   "source": [
    "#function to filter Data\n",
    "def filterData(data,column,value):\n",
    "    filterData = data.loc[data[column] == value]\n",
    "    return filterData\n",
    "    \n"
   ]
  },
  {
   "cell_type": "code",
   "execution_count": 5,
   "metadata": {},
   "outputs": [],
   "source": [
    "#function to get count of a value\n",
    "def getCount(data,column,columnName):    \n",
    "    data_count = pd.DataFrame({columnName:data.groupby(column).size()}).reset_index()\n",
    "    return data_count"
   ]
  },
  {
   "cell_type": "code",
   "execution_count": 6,
   "metadata": {},
   "outputs": [],
   "source": [
    "#function to sort\n",
    "def sortValue(data,column,ascBoolean):\n",
    "    sorted_data = data.sort_values(column,ascending = ascBoolean)\n",
    "    return sorted_data"
   ]
  }
 ],
 "metadata": {
  "kernelspec": {
   "display_name": "Python 3",
   "language": "python",
   "name": "python3"
  },
  "language_info": {
   "codemirror_mode": {
    "name": "ipython",
    "version": 3
   },
   "file_extension": ".py",
   "mimetype": "text/x-python",
   "name": "python",
   "nbconvert_exporter": "python",
   "pygments_lexer": "ipython3",
   "version": "3.7.0"
  }
 },
 "nbformat": 4,
 "nbformat_minor": 2
}
