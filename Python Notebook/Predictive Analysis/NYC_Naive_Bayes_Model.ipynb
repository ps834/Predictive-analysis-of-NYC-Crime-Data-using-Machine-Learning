{
 "cells": [
  {
   "cell_type": "code",
   "execution_count": 1,
   "metadata": {},
   "outputs": [],
   "source": [
    "# Data manipulation\n",
    "import numpy as np\n",
    "\n",
    "#Data Exploratiion\n",
    "import pandas as pd\n",
    "\n",
    "#Data Visualization\n",
    "import matplotlib.pyplot as plt\n",
    "%matplotlib inline"
   ]
  },
  {
   "cell_type": "code",
   "execution_count": 2,
   "metadata": {},
   "outputs": [
    {
     "name": "stdout",
     "output_type": "stream",
     "text": [
      "0.0\n",
      "0.0\n",
      "0.0\n",
      "0.0\n",
      "0.0\n",
      "<class 'pandas.core.frame.DataFrame'>\n",
      "Int64Index: 5835784 entries, 1 to 6039728\n",
      "Data columns (total 16 columns):\n",
      "CMPLNT_FR_DT         object\n",
      "CMPLNT_FR_TM         object\n",
      "CMPLNT_TO_DT         object\n",
      "CMPLNT_TO_TM         object\n",
      "RPT_DT               object\n",
      "OFNS_DESC            object\n",
      "PD_DESC              object\n",
      "CRM_ATPT_CPTD_CD     object\n",
      "LAW_CAT_CD           object\n",
      "BORO_NM              object\n",
      "ADDR_PCT_CD          float64\n",
      "LOC_OF_OCCUR_DESC    object\n",
      "PREM_TYP_DESC        object\n",
      "Latitude             float64\n",
      "Longitude            float64\n",
      "Lat_Lon              object\n",
      "dtypes: float64(3), object(13)\n",
      "memory usage: 756.9+ MB\n",
      "<class 'pandas.core.frame.DataFrame'>\n",
      "RangeIndex: 77 entries, 0 to 76\n",
      "Data columns (total 4 columns):\n",
      "Shape_Area    77 non-null float64\n",
      "Shape_Leng    77 non-null float64\n",
      "Precinct      77 non-null int64\n",
      "the_geom      77 non-null object\n",
      "dtypes: float64(2), int64(1), object(1)\n",
      "memory usage: 2.5+ KB\n"
     ]
    }
   ],
   "source": [
    "from sklearn.preprocessing import LabelEncoder, OneHotEncoder\n",
    "from Data_Filter_for_model_selection import getFinalData"
   ]
  },
  {
   "cell_type": "code",
   "execution_count": 3,
   "metadata": {},
   "outputs": [],
   "source": [
    "from Principle_component_analysis_main import performPCA,getConfusionMatrix,getVisuals,getXTrain,getYTrain,getXTest,getYTest,applyModelNB,getMetrics"
   ]
  },
  {
   "cell_type": "code",
   "execution_count": 4,
   "metadata": {},
   "outputs": [],
   "source": [
    "import warnings\n",
    "warnings.filterwarnings(\"ignore\")"
   ]
  },
  {
   "cell_type": "code",
   "execution_count": 5,
   "metadata": {
    "scrolled": true
   },
   "outputs": [],
   "source": [
    "crimes_pred_data = getFinalData()"
   ]
  },
  {
   "cell_type": "code",
   "execution_count": 6,
   "metadata": {
    "scrolled": true
   },
   "outputs": [
    {
     "name": "stdout",
     "output_type": "stream",
     "text": [
      "The Variance is [0.34866883 0.25363372]\n",
      "Accuracy: 0.7816920943134535\n",
      "\n",
      "Confusion Matrix is as follows\n",
      "[[8454    0]\n",
      " [2361    0]]\n",
      "\n",
      "Classification Error\n",
      "0.21830790568654646\n",
      "\n",
      "Sensitivity or Recall\n",
      "0.0\n",
      "\n",
      "Specificity\n",
      "1.0\n",
      "\n",
      "False Positive Rate\n",
      "0.0\n",
      "\n",
      "Precision\n",
      "0.0\n",
      "\n"
     ]
    }
   ],
   "source": [
    "# Target variable as Morning\n",
    "\n",
    "data = crimes_pred_data.drop(['PD_DESC','CRM_ATPT_CPTD_CD','Precinct','Time','Afternoon','Evening','Night'],axis=1)\n",
    "labelencoder_X = LabelEncoder()\n",
    "data['OFNS_DESC'] = labelencoder_X.fit_transform(data['OFNS_DESC'])\n",
    "data['PREM_TYP_DESC'] = labelencoder_X.fit_transform(data['PREM_TYP_DESC'])\n",
    "data['LAW_CAT_CD'] = labelencoder_X.fit_transform(data['LAW_CAT_CD'])\n",
    "data['LOC_OF_OCCUR_DESC'] = labelencoder_X.fit_transform(data['LOC_OF_OCCUR_DESC'])\n",
    "data['Morning'] = labelencoder_X.fit_transform(data['Morning'])\n",
    "    \n",
    "X = data.iloc[:, 0:4].values\n",
    "Y = data.iloc[:, 4].values\n",
    "  \n",
    "# perform Principle Component Analysis\n",
    "split_data_morn = performPCA(X,Y)\n",
    "\n",
    "#Get Training and Testing Data\n",
    "xTrain = split_data_morn[0]\n",
    "xTest = split_data_morn[1]\n",
    "yTrain = split_data_morn[2]\n",
    "yTest  = split_data_morn[3]\n",
    "\n",
    "#Apply Naive Bayes Classification\n",
    "classifier_morn = applyModelNB(split_data_morn)\n",
    "\n",
    "#Compute confusion matrix\n",
    "cm = getConfusionMatrix(xTest,yTest,classifier_morn)"
   ]
  },
  {
   "cell_type": "code",
   "execution_count": 7,
   "metadata": {},
   "outputs": [
    {
     "data": {
      "image/png": "[encoded data removed]",
      "text/plain": [
       "<Figure size 432x288 with 1 Axes>"
      ]
     },
     "metadata": {
      "needs_background": "light"
     },
     "output_type": "display_data"
    }
   ],
   "source": [
    "getVisuals(xTrain,yTrain,classifier_morn,\"Actual v/s Predicted Crime rate in Morning (Training Set)\")"
   ]
  },
  {
   "cell_type": "code",
   "execution_count": 8,
   "metadata": {},
   "outputs": [
    {
     "data": {
      "image/png": "[encoded data removed]",
      "text/plain": [
       "<Figure size 432x288 with 1 Axes>"
      ]
     },
     "metadata": {
      "needs_background": "light"
     },
     "output_type": "display_data"
    }
   ],
   "source": [
    "getVisuals(xTest,yTest,classifier_morn,\"Actual v/s Predicted Crime rate in Morning (Test Set)\")"
   ]
  },
  {
   "cell_type": "code",
   "execution_count": 9,
   "metadata": {},
   "outputs": [
    {
     "name": "stdout",
     "output_type": "stream",
     "text": [
      "The Variance is [0.34866883 0.25363372]\n",
      "Accuracy: 0.8355062413314841\n",
      "\n",
      "Confusion Matrix is as follows\n",
      "[[9036    0]\n",
      " [1779    0]]\n",
      "\n",
      "Classification Error\n",
      "0.1644937586685159\n",
      "\n",
      "Sensitivity or Recall\n",
      "0.0\n",
      "\n",
      "Specificity\n",
      "1.0\n",
      "\n",
      "False Positive Rate\n",
      "0.0\n",
      "\n",
      "Precision\n",
      "0.0\n",
      "\n"
     ]
    }
   ],
   "source": [
    "#Target Variable as Afternoon\n",
    "data = crimes_pred_data.drop(['PD_DESC','CRM_ATPT_CPTD_CD','Precinct','Time','Morning','Evening','Night'],axis=1)\n",
    "labelencoder_X = LabelEncoder()\n",
    "data['OFNS_DESC'] = labelencoder_X.fit_transform(data['OFNS_DESC'])\n",
    "data['PREM_TYP_DESC'] = labelencoder_X.fit_transform(data['PREM_TYP_DESC'])\n",
    "data['LAW_CAT_CD'] = labelencoder_X.fit_transform(data['LAW_CAT_CD'])\n",
    "data['LOC_OF_OCCUR_DESC'] = labelencoder_X.fit_transform(data['LOC_OF_OCCUR_DESC'])\n",
    "data['Afternoon'] = labelencoder_X.fit_transform(data['Afternoon'])\n",
    "\n",
    "X_noon = data.iloc[:, 0:4].values\n",
    "Y_noon = data.iloc[:, 4].values\n",
    "\n",
    "# perform Principle Component Analysis\n",
    "split_data_noon = performPCA(X_noon,Y_noon)\n",
    "\n",
    "#Get Training and Testing Data\n",
    "xTrain = split_data_noon[0]\n",
    "xTest = split_data_noon[1]\n",
    "yTrain = split_data_noon[2]\n",
    "yTest  = split_data_noon[3]\n",
    "\n",
    "#Apply Naive Bayes Classification\n",
    "classifier_noon = applyModelNB(split_data_noon)\n",
    "\n",
    "#Compute confusion matrix\n",
    "cm = getConfusionMatrix(xTest,yTest,classifier_noon)"
   ]
  },
  {
   "cell_type": "code",
   "execution_count": 10,
   "metadata": {},
   "outputs": [
    {
     "name": "stdout",
     "output_type": "stream",
     "text": [
      "The Variance is [0.34866883 0.25363372]\n",
      "Accuracy: 0.874711049468331\n",
      "\n",
      "Confusion Matrix is as follows\n",
      "[[9457    4]\n",
      " [1351    3]]\n",
      "\n",
      "Classification Error\n",
      "0.125288950531669\n",
      "\n",
      "Sensitivity or Recall\n",
      "0.0022156573116691287\n",
      "\n",
      "Specificity\n",
      "0.9995772117112356\n",
      "\n",
      "False Positive Rate\n",
      "0.00042278828876440855\n",
      "\n",
      "Precision\n",
      "0.42857142857142855\n",
      "\n"
     ]
    }
   ],
   "source": [
    "#Target Variable as Evening\n",
    "data = crimes_pred_data.drop(['PD_DESC','CRM_ATPT_CPTD_CD','Precinct','Time','Morning','Afternoon','Night'],axis=1)\n",
    "labelencoder_X = LabelEncoder()\n",
    "data['OFNS_DESC'] = labelencoder_X.fit_transform(data['OFNS_DESC'])\n",
    "data['PREM_TYP_DESC'] = labelencoder_X.fit_transform(data['PREM_TYP_DESC'])\n",
    "data['LAW_CAT_CD'] = labelencoder_X.fit_transform(data['LAW_CAT_CD'])\n",
    "data['LOC_OF_OCCUR_DESC'] = labelencoder_X.fit_transform(data['LOC_OF_OCCUR_DESC'])\n",
    "data['Evening'] = labelencoder_X.fit_transform(data['Evening'])\n",
    "    \n",
    "X_eve = data.iloc[:, 0:4].values\n",
    "Y_eve = data.iloc[:, 4].values\n",
    "\n",
    "# perform Principle Component Analysis\n",
    "split_data_eve = performPCA(X_eve,Y_eve)\n",
    "\n",
    "#Get Training and Testing Data\n",
    "xTrain = split_data_eve[0]\n",
    "xTest = split_data_eve[1]\n",
    "yTrain = split_data_eve[2]\n",
    "yTest  = split_data_eve[3]\n",
    "\n",
    "#Apply Naive Bayes Classification\n",
    "classifier_eve = applyModelNB(split_data_eve)\n",
    "\n",
    "#Compute confusion matrix\n",
    "cm = getConfusionMatrix(xTest,yTest,classifier_eve)"
   ]
  },
  {
   "cell_type": "code",
   "execution_count": 11,
   "metadata": {},
   "outputs": [
    {
     "name": "stdout",
     "output_type": "stream",
     "text": [
      "The Variance is [0.34866883 0.25363372]\n",
      "Accuracy: 0.8940360610263522\n",
      "\n",
      "Confusion Matrix is as follows\n",
      "[[9669    0]\n",
      " [1146    0]]\n",
      "\n",
      "Classification Error\n",
      "0.10596393897364775\n",
      "\n",
      "Sensitivity or Recall\n",
      "0.0\n",
      "\n",
      "Specificity\n",
      "1.0\n",
      "\n",
      "False Positive Rate\n",
      "0.0\n",
      "\n",
      "Precision\n",
      "0.0\n",
      "\n"
     ]
    }
   ],
   "source": [
    "#Target Variable as Night\n",
    "\n",
    "data = crimes_pred_data.drop(['PD_DESC','CRM_ATPT_CPTD_CD','Precinct','Time','Morning','Afternoon','Evening'],axis=1)\n",
    "labelencoder_X = LabelEncoder()\n",
    "data['OFNS_DESC'] = labelencoder_X.fit_transform(data['OFNS_DESC'])\n",
    "data['PREM_TYP_DESC'] = labelencoder_X.fit_transform(data['PREM_TYP_DESC'])\n",
    "data['LAW_CAT_CD'] = labelencoder_X.fit_transform(data['LAW_CAT_CD'])\n",
    "data['LOC_OF_OCCUR_DESC'] = labelencoder_X.fit_transform(data['LOC_OF_OCCUR_DESC'])\n",
    "data['Night'] = labelencoder_X.fit_transform(data['Night'])\n",
    "    \n",
    "X_night = data.iloc[:, 0:4].values\n",
    "Y_night = data.iloc[:, 4].values\n",
    "\n",
    "# perform Principle Component Analysis\n",
    "split_data_night = performPCA(X_night,Y_night)\n",
    "\n",
    "#Get Training and Testing Data\n",
    "xTrain = split_data_night[0]\n",
    "xTest = split_data_night[1]\n",
    "yTrain = split_data_night[2]\n",
    "yTest  = split_data_night[3]\n",
    "\n",
    "#Apply Naive Bayes Classification\n",
    "classifier_night = applyModelNB(split_data_night)\n",
    "\n",
    "#Compute confusion matrix\n",
    "cm = getConfusionMatrix(xTest,yTest,classifier_night)"
   ]
  },
  {
   "cell_type": "code",
   "execution_count": null,
   "metadata": {},
   "outputs": [],
   "source": [
    "#Target Variable as Intensity of Crime\n",
    "data = crimes_pred_data.drop(['PD_DESC','LAW_CAT_CD','CRM_ATPT_CPTD_CD','Precinct','Time'],axis=1)\n",
    "labelencoder_X = LabelEncoder()\n",
    "data['OFNS_DESC'] = labelencoder_X.fit_transform(data['OFNS_DESC'])\n",
    "data['PREM_TYP_DESC'] = labelencoder_X.fit_transform(data['PREM_TYP_DESC'])\n",
    "data['LOC_OF_OCCUR_DESC'] = labelencoder_X.fit_transform(data['LOC_OF_OCCUR_DESC'])\n",
    "data['Morning'] = labelencoder_X.fit_transform(data['Morning'])\n",
    "data['Afternoon'] = labelencoder_X.fit_transform(data['Afternoon'])\n",
    "data['Evening'] = labelencoder_X.fit_transform(data['Evening'])\n",
    "data['Night'] = labelencoder_X.fit_transform(data['Night'])\n",
    "\n",
    "data_ofns = crimes_pred_data.copy()\n",
    "data_ofns.reset_index(drop=True, inplace=True)\n",
    "data_ofns = data_ofns.drop(['PD_DESC','OFNS_DESC','PREM_TYP_DESC','LOC_OF_OCCUR_DESC','CRM_ATPT_CPTD_CD','Precinct','Time','Morning','Afternoon','Evening','Night'],axis=1)\n",
    "    \n",
    "    \n",
    "X_ofns = data.iloc[:, 0:7].values\n",
    "data_ofns['LAW_CAT_CD'] = labelencoder_X.fit_transform(data_ofns['LAW_CAT_CD'])\n",
    "Y_ofns = data_ofns['LAW_CAT_CD']\n",
    "\n",
    "# perform Principle Component Analysis\n",
    "split_data_ofns = performPCA(X_ofns,Y_ofns)\n",
    "\n",
    "#Get Training and Testing Data\n",
    "xTrain = split_data_ofns[0]\n",
    "xTest = split_data_ofns[1]\n",
    "yTrain = split_data_ofns[2]\n",
    "yTest  = split_data_ofns[3]\n",
    "\n",
    "#Apply Naive Bayes Classification\n",
    "classifier_prem = applyModelNB(split_data_ofns)\n",
    "\n",
    "#Compute confusion matrix\n",
    "cm = getConfusionMatrix(xTest,yTest,classifier_prem)"
   ]
  },
  {
   "cell_type": "code",
   "execution_count": null,
   "metadata": {},
   "outputs": [],
   "source": [
    "#Target Variable as Premises\n",
    "data = crimes_pred_data.drop(['PD_DESC','PREM_TYP_DESC','CRM_ATPT_CPTD_CD','Precinct','Time'],axis=1)\n",
    "labelencoder_X = LabelEncoder()\n",
    "data['OFNS_DESC'] = labelencoder_X.fit_transform(data['OFNS_DESC'])\n",
    "data['LAW_CAT_CD'] = labelencoder_X.fit_transform(data['LAW_CAT_CD'])\n",
    "data['LOC_OF_OCCUR_DESC'] = labelencoder_X.fit_transform(data['LOC_OF_OCCUR_DESC'])\n",
    "data['Morning'] = labelencoder_X.fit_transform(data['Morning'])\n",
    "data['Afternoon'] = labelencoder_X.fit_transform(data['Afternoon'])\n",
    "data['Evening'] = labelencoder_X.fit_transform(data['Evening'])\n",
    "data['Night'] = labelencoder_X.fit_transform(data['Night'])\n",
    "\n",
    "data_prem = crimes_pred_data.copy()\n",
    "data_prem.reset_index(drop=True, inplace=True)\n",
    "data_prem = data_prem.drop(['PD_DESC','OFNS_DESC','LAW_CAT_CD','LOC_OF_OCCUR_DESC','CRM_ATPT_CPTD_CD','Precinct','Time','Morning','Afternoon','Evening','Night'],axis=1)\n",
    "    \n",
    "    \n",
    "X_prem = data.iloc[:, 0:7].values\n",
    "data_prem['PREM_TYP_DESC'] = labelencoder_X.fit_transform(data_prem['PREM_TYP_DESC'])\n",
    "Y_prem = data_prem['PREM_TYP_DESC']\n",
    "\n",
    "# perform Principle Component Analysis\n",
    "split_data_prem = performPCA(X_prem,Y_prem)\n",
    "\n",
    "#Get Training and Testing Data\n",
    "xTrain = split_data_prem[0]\n",
    "xTest = split_data_prem[1]\n",
    "yTrain = split_data_prem[2]\n",
    "yTest  = split_data_prem[3]\n",
    "\n",
    "#Apply Naive Bayes Classification\n",
    "classifier_prem = applyModelNB(split_data_prem)\n",
    "\n",
    "#Compute confusion matrix\n",
    "cm = getConfusionMatrix(xTest,yTest,classifier_prem)"
   ]
  },
  {
   "cell_type": "code",
   "execution_count": null,
   "metadata": {},
   "outputs": [],
   "source": [
    "#Target Variable as Location of Occurence\n",
    "data = crimes_pred_data.drop(['PD_DESC','LOC_OF_OCCUR_DESC','CRM_ATPT_CPTD_CD','Precinct','Time'],axis=1)\n",
    "labelencoder_X = LabelEncoder()\n",
    "data['OFNS_DESC'] = labelencoder_X.fit_transform(data['OFNS_DESC'])\n",
    "data['LAW_CAT_CD'] = labelencoder_X.fit_transform(data['LAW_CAT_CD'])\n",
    "data['PREM_TYP_DESC'] = labelencoder_X.fit_transform(data['PREM_TYP_DESC'])\n",
    "data['Morning'] = labelencoder_X.fit_transform(data['Morning'])\n",
    "data['Afternoon'] = labelencoder_X.fit_transform(data['Afternoon'])\n",
    "data['Evening'] = labelencoder_X.fit_transform(data['Evening'])\n",
    "data['Night'] = labelencoder_X.fit_transform(data['Night'])\n",
    "\n",
    "data_ofns = crimes_pred_data.copy()\n",
    "data_ofns.reset_index(drop=True, inplace=True)\n",
    "data_ofns = data_ofns.drop(['PD_DESC','OFNS_DESC','PREM_TYP_DESC','LAW_CAT_CD','CRM_ATPT_CPTD_CD','Precinct','Time','Morning','Afternoon','Evening','Night'],axis=1)\n",
    "    \n",
    "    \n",
    "X_ofns = data.iloc[:, 0:7].values\n",
    "data_ofns['LOC_OF_OCCUR_DESC'] = labelencoder_X.fit_transform(data_ofns['LOC_OF_OCCUR_DESC'])\n",
    "Y_ofns = data_ofns['LOC_OF_OCCUR_DESC']\n",
    "\n",
    "# perform Principle Component Analysis\n",
    "split_data_ofns = performPCA(X_ofns,Y_ofns)\n",
    "\n",
    "#Get Training and Testing Data\n",
    "xTrain = split_data_ofns[0]\n",
    "xTest = split_data_ofns[1]\n",
    "yTrain = split_data_ofns[2]\n",
    "yTest  = split_data_ofns[3]\n",
    "\n",
    "#Apply Naive Bayes Classification\n",
    "classifier_prem = applyModelNB(split_data_ofns)\n",
    "\n",
    "#Compute confusion matrix\n",
    "cm = getConfusionMatrix(xTest,yTest,classifier_prem)"
   ]
  },
  {
   "cell_type": "code",
   "execution_count": null,
   "metadata": {},
   "outputs": [],
   "source": [
    "#Target Variable as OFNS_DESC\n",
    "data = crimes_pred_data.drop(['PD_DESC','OFNS_DESC','CRM_ATPT_CPTD_CD','Precinct','Time'],axis=1)\n",
    "labelencoder_X = LabelEncoder()\n",
    "data['PREM_TYP_DESC'] = labelencoder_X.fit_transform(data['PREM_TYP_DESC'])\n",
    "data['LAW_CAT_CD'] = labelencoder_X.fit_transform(data['LAW_CAT_CD'])\n",
    "data['LOC_OF_OCCUR_DESC'] = labelencoder_X.fit_transform(data['LOC_OF_OCCUR_DESC'])\n",
    "data['Morning'] = labelencoder_X.fit_transform(data['Morning'])\n",
    "data['Afternoon'] = labelencoder_X.fit_transform(data['Afternoon'])\n",
    "data['Evening'] = labelencoder_X.fit_transform(data['Evening'])\n",
    "data['Night'] = labelencoder_X.fit_transform(data['Night'])\n",
    "\n",
    "data_ofns = crimes_pred_data.copy()\n",
    "data_ofns.reset_index(drop=True, inplace=True)\n",
    "data_ofns = data_ofns.drop(['PD_DESC','PREM_TYP_DESC','LAW_CAT_CD','LOC_OF_OCCUR_DESC','CRM_ATPT_CPTD_CD','Precinct','Time','Morning','Afternoon','Evening','Night'],axis=1)\n",
    "    \n",
    "    \n",
    "X_ofns = data.iloc[:, 0:7].values\n",
    "data_ofns['OFNS_DESC'] = labelencoder_X.fit_transform(data_ofns['OFNS_DESC'])\n",
    "Y_ofns = data_ofns['OFNS_DESC']\n",
    "\n",
    "# perform Principle Component Analysis\n",
    "split_data_ofns = performPCA(X_ofns,Y_ofns)\n",
    "\n",
    "#Get Training and Testing Data\n",
    "xTrain = split_data_ofns[0]\n",
    "xTest = split_data_ofns[1]\n",
    "yTrain = split_data_ofns[2]\n",
    "yTest  = split_data_ofns[3]\n",
    "\n",
    "#Apply Naive Bayes Classification\n",
    "classifier_ofns = applyModelNB(split_data_ofns)\n",
    "\n",
    "#Compute confusion matrix\n",
    "cm = getConfusionMatrix(xTest,yTest,classifier_ofns)"
   ]
  }
 ],
 "metadata": {
  "kernelspec": {
   "display_name": "Python 3",
   "language": "python",
   "name": "python3"
  },
  "language_info": {
   "codemirror_mode": {
    "name": "ipython",
    "version": 3
   },
   "file_extension": ".py",
   "mimetype": "text/x-python",
   "name": "python",
   "nbconvert_exporter": "python",
   "pygments_lexer": "ipython3",
   "version": "3.7.0"
  }
 },
 "nbformat": 4,
 "nbformat_minor": 2
}
